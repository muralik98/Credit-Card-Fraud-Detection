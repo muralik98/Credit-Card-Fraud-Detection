{
 "cells": [
  {
   "cell_type": "markdown",
   "id": "6ae6c354",
   "metadata": {},
   "source": [
    "# Credit Card Fraud Detection\n",
    "\n",
    "Data Source: https://www.kaggle.com/datasets/kartik2112/fraud-detection\n",
    "\n",
    "The data contains simulated  credit card transaction containing both fraud and non-fraud legitimate and fraud transactions from the duration Jan 2019-Dec 2020. It covers credit cards of 1000 customers doing transactions with a pool of 800 merchants.The data contains details about transaction date_time, credit_card_num, merchant and category, name, gender of user, street, location, latitude and longitude of user and merchant, city_population etc.. \n",
    "The data is highly imbalanced.  "
   ]
  },
  {
   "cell_type": "code",
   "execution_count": 1,
   "id": "39d061bf",
   "metadata": {},
   "outputs": [],
   "source": [
    "import numpy as np\n",
    "import scipy as scp\n",
    "import pandas as pd\n",
    "from matplotlib import pyplot as plt\n",
    "import seaborn as sns\n",
    "import plotly.express as px\n",
    "\n",
    "\n",
    "from sklearn.model_selection import train_test_split\n",
    "from sklearn.preprocessing import MinMaxScaler,StandardScaler\n",
    "from sklearn.pipeline import Pipeline\n",
    "from sklearn.compose import ColumnTransformer\n",
    "from sklearn.preprocessing import LabelEncoder,OneHotEncoder\n",
    "from sklearn import metrics\n",
    "from sklearn.model_selection import RandomizedSearchCV\n",
    "from sklearn.linear_model import LinearRegression,Lasso,Ridge\n",
    "from sklearn.tree import DecisionTreeRegressor\n",
    "from sklearn.ensemble import RandomForestRegressor,GradientBoostingRegressor\n",
    "from xgboost import XGBRegressor\n",
    "from sklearn.svm import SVR\n",
    "from sklearn.neighbors import KNeighborsRegressor\n",
    "from sklearn import tree\n",
    "from sklearn.preprocessing import StandardScaler\n",
    "from sklearn.preprocessing import FunctionTransformer\n",
    "from imblearn.pipeline import Pipeline\n",
    "from sklearn import metrics\n",
    "from sklearn.metrics import average_precision_score\n",
    "from sklearn.metrics import accuracy_score, auc,f1_score, precision_score, recall_score, confusion_matrix, roc_auc_score, roc_curve, recall_score"
   ]
  },
  {
   "cell_type": "code",
   "execution_count": 2,
   "id": "770dae33",
   "metadata": {},
   "outputs": [],
   "source": [
    "data1=pd.read_csv(r\"data\\fraudTrain.csv\")\n",
    "data2=pd.read_csv(r\"data\\fraudTest.csv\")"
   ]
  },
  {
   "cell_type": "code",
   "execution_count": 3,
   "id": "4a998468",
   "metadata": {},
   "outputs": [],
   "source": [
    "data=pd.concat([data1,data2])"
   ]
  },
  {
   "cell_type": "code",
   "execution_count": 4,
   "id": "02c13b73",
   "metadata": {},
   "outputs": [
    {
     "data": {
      "text/plain": [
       "(1852394, 23)"
      ]
     },
     "execution_count": 4,
     "metadata": {},
     "output_type": "execute_result"
    }
   ],
   "source": [
    "data.shape"
   ]
  },
  {
   "cell_type": "code",
   "execution_count": 5,
   "id": "8cd2ac80",
   "metadata": {},
   "outputs": [
    {
     "data": {
      "text/html": [
       "<div>\n",
       "<style scoped>\n",
       "    .dataframe tbody tr th:only-of-type {\n",
       "        vertical-align: middle;\n",
       "    }\n",
       "\n",
       "    .dataframe tbody tr th {\n",
       "        vertical-align: top;\n",
       "    }\n",
       "\n",
       "    .dataframe thead th {\n",
       "        text-align: right;\n",
       "    }\n",
       "</style>\n",
       "<table border=\"1\" class=\"dataframe\">\n",
       "  <thead>\n",
       "    <tr style=\"text-align: right;\">\n",
       "      <th></th>\n",
       "      <th>Unnamed: 0</th>\n",
       "      <th>trans_date_trans_time</th>\n",
       "      <th>cc_num</th>\n",
       "      <th>merchant</th>\n",
       "      <th>category</th>\n",
       "      <th>amt</th>\n",
       "      <th>first</th>\n",
       "      <th>last</th>\n",
       "      <th>gender</th>\n",
       "      <th>street</th>\n",
       "      <th>...</th>\n",
       "      <th>lat</th>\n",
       "      <th>long</th>\n",
       "      <th>city_pop</th>\n",
       "      <th>job</th>\n",
       "      <th>dob</th>\n",
       "      <th>trans_num</th>\n",
       "      <th>unix_time</th>\n",
       "      <th>merch_lat</th>\n",
       "      <th>merch_long</th>\n",
       "      <th>is_fraud</th>\n",
       "    </tr>\n",
       "  </thead>\n",
       "  <tbody>\n",
       "    <tr>\n",
       "      <th>0</th>\n",
       "      <td>0</td>\n",
       "      <td>2019-01-01 00:00:18</td>\n",
       "      <td>2703186189652095</td>\n",
       "      <td>fraud_Rippin, Kub and Mann</td>\n",
       "      <td>misc_net</td>\n",
       "      <td>4.97</td>\n",
       "      <td>Jennifer</td>\n",
       "      <td>Banks</td>\n",
       "      <td>F</td>\n",
       "      <td>561 Perry Cove</td>\n",
       "      <td>...</td>\n",
       "      <td>36.0788</td>\n",
       "      <td>-81.1781</td>\n",
       "      <td>3495</td>\n",
       "      <td>Psychologist, counselling</td>\n",
       "      <td>1988-03-09</td>\n",
       "      <td>0b242abb623afc578575680df30655b9</td>\n",
       "      <td>1325376018</td>\n",
       "      <td>36.011293</td>\n",
       "      <td>-82.048315</td>\n",
       "      <td>0</td>\n",
       "    </tr>\n",
       "    <tr>\n",
       "      <th>1</th>\n",
       "      <td>1</td>\n",
       "      <td>2019-01-01 00:00:44</td>\n",
       "      <td>630423337322</td>\n",
       "      <td>fraud_Heller, Gutmann and Zieme</td>\n",
       "      <td>grocery_pos</td>\n",
       "      <td>107.23</td>\n",
       "      <td>Stephanie</td>\n",
       "      <td>Gill</td>\n",
       "      <td>F</td>\n",
       "      <td>43039 Riley Greens Suite 393</td>\n",
       "      <td>...</td>\n",
       "      <td>48.8878</td>\n",
       "      <td>-118.2105</td>\n",
       "      <td>149</td>\n",
       "      <td>Special educational needs teacher</td>\n",
       "      <td>1978-06-21</td>\n",
       "      <td>1f76529f8574734946361c461b024d99</td>\n",
       "      <td>1325376044</td>\n",
       "      <td>49.159047</td>\n",
       "      <td>-118.186462</td>\n",
       "      <td>0</td>\n",
       "    </tr>\n",
       "    <tr>\n",
       "      <th>2</th>\n",
       "      <td>2</td>\n",
       "      <td>2019-01-01 00:00:51</td>\n",
       "      <td>38859492057661</td>\n",
       "      <td>fraud_Lind-Buckridge</td>\n",
       "      <td>entertainment</td>\n",
       "      <td>220.11</td>\n",
       "      <td>Edward</td>\n",
       "      <td>Sanchez</td>\n",
       "      <td>M</td>\n",
       "      <td>594 White Dale Suite 530</td>\n",
       "      <td>...</td>\n",
       "      <td>42.1808</td>\n",
       "      <td>-112.2620</td>\n",
       "      <td>4154</td>\n",
       "      <td>Nature conservation officer</td>\n",
       "      <td>1962-01-19</td>\n",
       "      <td>a1a22d70485983eac12b5b88dad1cf95</td>\n",
       "      <td>1325376051</td>\n",
       "      <td>43.150704</td>\n",
       "      <td>-112.154481</td>\n",
       "      <td>0</td>\n",
       "    </tr>\n",
       "    <tr>\n",
       "      <th>3</th>\n",
       "      <td>3</td>\n",
       "      <td>2019-01-01 00:01:16</td>\n",
       "      <td>3534093764340240</td>\n",
       "      <td>fraud_Kutch, Hermiston and Farrell</td>\n",
       "      <td>gas_transport</td>\n",
       "      <td>45.00</td>\n",
       "      <td>Jeremy</td>\n",
       "      <td>White</td>\n",
       "      <td>M</td>\n",
       "      <td>9443 Cynthia Court Apt. 038</td>\n",
       "      <td>...</td>\n",
       "      <td>46.2306</td>\n",
       "      <td>-112.1138</td>\n",
       "      <td>1939</td>\n",
       "      <td>Patent attorney</td>\n",
       "      <td>1967-01-12</td>\n",
       "      <td>6b849c168bdad6f867558c3793159a81</td>\n",
       "      <td>1325376076</td>\n",
       "      <td>47.034331</td>\n",
       "      <td>-112.561071</td>\n",
       "      <td>0</td>\n",
       "    </tr>\n",
       "    <tr>\n",
       "      <th>4</th>\n",
       "      <td>4</td>\n",
       "      <td>2019-01-01 00:03:06</td>\n",
       "      <td>375534208663984</td>\n",
       "      <td>fraud_Keeling-Crist</td>\n",
       "      <td>misc_pos</td>\n",
       "      <td>41.96</td>\n",
       "      <td>Tyler</td>\n",
       "      <td>Garcia</td>\n",
       "      <td>M</td>\n",
       "      <td>408 Bradley Rest</td>\n",
       "      <td>...</td>\n",
       "      <td>38.4207</td>\n",
       "      <td>-79.4629</td>\n",
       "      <td>99</td>\n",
       "      <td>Dance movement psychotherapist</td>\n",
       "      <td>1986-03-28</td>\n",
       "      <td>a41d7549acf90789359a9aa5346dcb46</td>\n",
       "      <td>1325376186</td>\n",
       "      <td>38.674999</td>\n",
       "      <td>-78.632459</td>\n",
       "      <td>0</td>\n",
       "    </tr>\n",
       "  </tbody>\n",
       "</table>\n",
       "<p>5 rows × 23 columns</p>\n",
       "</div>"
      ],
      "text/plain": [
       "   Unnamed: 0 trans_date_trans_time            cc_num  \\\n",
       "0           0   2019-01-01 00:00:18  2703186189652095   \n",
       "1           1   2019-01-01 00:00:44      630423337322   \n",
       "2           2   2019-01-01 00:00:51    38859492057661   \n",
       "3           3   2019-01-01 00:01:16  3534093764340240   \n",
       "4           4   2019-01-01 00:03:06   375534208663984   \n",
       "\n",
       "                             merchant       category     amt      first  \\\n",
       "0          fraud_Rippin, Kub and Mann       misc_net    4.97   Jennifer   \n",
       "1     fraud_Heller, Gutmann and Zieme    grocery_pos  107.23  Stephanie   \n",
       "2                fraud_Lind-Buckridge  entertainment  220.11     Edward   \n",
       "3  fraud_Kutch, Hermiston and Farrell  gas_transport   45.00     Jeremy   \n",
       "4                 fraud_Keeling-Crist       misc_pos   41.96      Tyler   \n",
       "\n",
       "      last gender                        street  ...      lat      long  \\\n",
       "0    Banks      F                561 Perry Cove  ...  36.0788  -81.1781   \n",
       "1     Gill      F  43039 Riley Greens Suite 393  ...  48.8878 -118.2105   \n",
       "2  Sanchez      M      594 White Dale Suite 530  ...  42.1808 -112.2620   \n",
       "3    White      M   9443 Cynthia Court Apt. 038  ...  46.2306 -112.1138   \n",
       "4   Garcia      M              408 Bradley Rest  ...  38.4207  -79.4629   \n",
       "\n",
       "   city_pop                                job         dob  \\\n",
       "0      3495          Psychologist, counselling  1988-03-09   \n",
       "1       149  Special educational needs teacher  1978-06-21   \n",
       "2      4154        Nature conservation officer  1962-01-19   \n",
       "3      1939                    Patent attorney  1967-01-12   \n",
       "4        99     Dance movement psychotherapist  1986-03-28   \n",
       "\n",
       "                          trans_num   unix_time  merch_lat  merch_long  \\\n",
       "0  0b242abb623afc578575680df30655b9  1325376018  36.011293  -82.048315   \n",
       "1  1f76529f8574734946361c461b024d99  1325376044  49.159047 -118.186462   \n",
       "2  a1a22d70485983eac12b5b88dad1cf95  1325376051  43.150704 -112.154481   \n",
       "3  6b849c168bdad6f867558c3793159a81  1325376076  47.034331 -112.561071   \n",
       "4  a41d7549acf90789359a9aa5346dcb46  1325376186  38.674999  -78.632459   \n",
       "\n",
       "   is_fraud  \n",
       "0         0  \n",
       "1         0  \n",
       "2         0  \n",
       "3         0  \n",
       "4         0  \n",
       "\n",
       "[5 rows x 23 columns]"
      ]
     },
     "execution_count": 5,
     "metadata": {},
     "output_type": "execute_result"
    }
   ],
   "source": [
    "data.head()"
   ]
  },
  {
   "cell_type": "code",
   "execution_count": 6,
   "id": "04ce1c66",
   "metadata": {},
   "outputs": [
    {
     "data": {
      "text/plain": [
       "Index(['Unnamed: 0', 'trans_date_trans_time', 'cc_num', 'merchant', 'category',\n",
       "       'amt', 'first', 'last', 'gender', 'street', 'city', 'state', 'zip',\n",
       "       'lat', 'long', 'city_pop', 'job', 'dob', 'trans_num', 'unix_time',\n",
       "       'merch_lat', 'merch_long', 'is_fraud'],\n",
       "      dtype='object')"
      ]
     },
     "execution_count": 6,
     "metadata": {},
     "output_type": "execute_result"
    }
   ],
   "source": [
    "data.columns"
   ]
  },
  {
   "cell_type": "code",
   "execution_count": 7,
   "id": "ae5c61c0",
   "metadata": {},
   "outputs": [
    {
     "data": {
      "text/plain": [
       "Unnamed: 0                 int64\n",
       "trans_date_trans_time     object\n",
       "cc_num                     int64\n",
       "merchant                  object\n",
       "category                  object\n",
       "amt                      float64\n",
       "first                     object\n",
       "last                      object\n",
       "gender                    object\n",
       "street                    object\n",
       "city                      object\n",
       "state                     object\n",
       "zip                        int64\n",
       "lat                      float64\n",
       "long                     float64\n",
       "city_pop                   int64\n",
       "job                       object\n",
       "dob                       object\n",
       "trans_num                 object\n",
       "unix_time                  int64\n",
       "merch_lat                float64\n",
       "merch_long               float64\n",
       "is_fraud                   int64\n",
       "dtype: object"
      ]
     },
     "execution_count": 7,
     "metadata": {},
     "output_type": "execute_result"
    }
   ],
   "source": [
    "data.dtypes"
   ]
  },
  {
   "cell_type": "code",
   "execution_count": 8,
   "id": "8e93e706",
   "metadata": {},
   "outputs": [],
   "source": [
    "data.drop_duplicates(inplace=True)"
   ]
  },
  {
   "cell_type": "code",
   "execution_count": 9,
   "id": "76b4ca94",
   "metadata": {},
   "outputs": [
    {
     "data": {
      "text/plain": [
       "(1852394, 23)"
      ]
     },
     "execution_count": 9,
     "metadata": {},
     "output_type": "execute_result"
    }
   ],
   "source": [
    "data.shape  # So there are 23 features in the dataset"
   ]
  },
  {
   "cell_type": "markdown",
   "id": "5b7a2598",
   "metadata": {},
   "source": [
    "So the dataset consists of aound 18.5lakh(1.85 million) transactions. There are 24 features which include financial details, demographic details, location details of merchant and user."
   ]
  },
  {
   "cell_type": "markdown",
   "id": "3fa7a91c",
   "metadata": {},
   "source": [
    "## 1.Data Cleaning "
   ]
  },
  {
   "cell_type": "code",
   "execution_count": 10,
   "id": "fd6226db",
   "metadata": {},
   "outputs": [
    {
     "data": {
      "text/plain": [
       "Unnamed: 0               0\n",
       "trans_date_trans_time    0\n",
       "cc_num                   0\n",
       "merchant                 0\n",
       "category                 0\n",
       "amt                      0\n",
       "first                    0\n",
       "last                     0\n",
       "gender                   0\n",
       "street                   0\n",
       "city                     0\n",
       "state                    0\n",
       "zip                      0\n",
       "lat                      0\n",
       "long                     0\n",
       "city_pop                 0\n",
       "job                      0\n",
       "dob                      0\n",
       "trans_num                0\n",
       "unix_time                0\n",
       "merch_lat                0\n",
       "merch_long               0\n",
       "is_fraud                 0\n",
       "dtype: int64"
      ]
     },
     "execution_count": 10,
     "metadata": {},
     "output_type": "execute_result"
    }
   ],
   "source": [
    "data.isnull().sum()\n",
    "# No null value is found, but we will further check for invalid values in the dataset"
   ]
  },
  {
   "cell_type": "code",
   "execution_count": 11,
   "id": "b4b15759",
   "metadata": {},
   "outputs": [],
   "source": [
    "# Adding new feature of age as on transaction date\n",
    "data['age']=abs(pd.to_datetime(data['trans_date_trans_time']).dt.year-pd.to_datetime(data['dob']).dt.year)   "
   ]
  },
  {
   "cell_type": "code",
   "execution_count": 12,
   "id": "48fc0b7b",
   "metadata": {},
   "outputs": [],
   "source": [
    "data['trans_time_hour']=pd.to_datetime(data['trans_date_trans_time']).dt.hour\n",
    "# Adding new columns trans_time_hour which gives hour of transaction "
   ]
  },
  {
   "cell_type": "code",
   "execution_count": 13,
   "id": "06a3576e",
   "metadata": {},
   "outputs": [],
   "source": [
    "data['trans_month']=pd.to_datetime(data['trans_date_trans_time']).dt.month\n",
    "# Adding new columns trans_month which gives month of transaction "
   ]
  },
  {
   "cell_type": "code",
   "execution_count": 14,
   "id": "892f12c8",
   "metadata": {},
   "outputs": [
    {
     "data": {
      "image/png": "[encoded data removed]",
      "text/plain": [
       "<Figure size 640x480 with 1 Axes>"
      ]
     },
     "metadata": {},
     "output_type": "display_data"
    }
   ],
   "source": [
    "import matplotlib.pyplot as plt\n",
    "fig, ax = plt.subplots()\n",
    "ax.pie(data.is_fraud.value_counts(), labels=['No Fraud', 'Fraud'], autopct='%1.1f%%')\n",
    "plt.show()"
   ]
  },
  {
   "cell_type": "code",
   "execution_count": 15,
   "id": "60e31574",
   "metadata": {},
   "outputs": [
    {
     "data": {
      "text/plain": [
       "693"
      ]
     },
     "execution_count": 15,
     "metadata": {},
     "output_type": "execute_result"
    }
   ],
   "source": [
    "data['merchant'].nunique() # Number of Unique merchants/stores"
   ]
  },
  {
   "cell_type": "code",
   "execution_count": 16,
   "id": "06afe6dd",
   "metadata": {},
   "outputs": [
    {
     "data": {
      "image/png": "[encoded data removed]",
      "text/plain": [
       "<Figure size 640x480 with 1 Axes>"
      ]
     },
     "metadata": {},
     "output_type": "display_data"
    }
   ],
   "source": [
    "import matplotlib.pyplot as plt\n",
    "fig, ax = plt.subplots()\n",
    "ax.pie(data.gender.value_counts() , labels=['F', 'M'], autopct='%1.1f%%')\n",
    "plt.show()\n",
    "# We can see that there are more female customers"
   ]
  },
  {
   "cell_type": "code",
   "execution_count": 17,
   "id": "41588c39",
   "metadata": {},
   "outputs": [
    {
     "data": {
      "text/html": [
       "<div>\n",
       "<style scoped>\n",
       "    .dataframe tbody tr th:only-of-type {\n",
       "        vertical-align: middle;\n",
       "    }\n",
       "\n",
       "    .dataframe tbody tr th {\n",
       "        vertical-align: top;\n",
       "    }\n",
       "\n",
       "    .dataframe thead th {\n",
       "        text-align: right;\n",
       "    }\n",
       "</style>\n",
       "<table border=\"1\" class=\"dataframe\">\n",
       "  <thead>\n",
       "    <tr style=\"text-align: right;\">\n",
       "      <th>category</th>\n",
       "      <th>entertainment</th>\n",
       "      <th>food_dining</th>\n",
       "      <th>gas_transport</th>\n",
       "      <th>grocery_net</th>\n",
       "      <th>grocery_pos</th>\n",
       "      <th>health_fitness</th>\n",
       "      <th>home</th>\n",
       "      <th>kids_pets</th>\n",
       "      <th>misc_net</th>\n",
       "      <th>misc_pos</th>\n",
       "      <th>personal_care</th>\n",
       "      <th>shopping_net</th>\n",
       "      <th>shopping_pos</th>\n",
       "      <th>travel</th>\n",
       "    </tr>\n",
       "    <tr>\n",
       "      <th>gender</th>\n",
       "      <th></th>\n",
       "      <th></th>\n",
       "      <th></th>\n",
       "      <th></th>\n",
       "      <th></th>\n",
       "      <th></th>\n",
       "      <th></th>\n",
       "      <th></th>\n",
       "      <th></th>\n",
       "      <th></th>\n",
       "      <th></th>\n",
       "      <th></th>\n",
       "      <th></th>\n",
       "      <th></th>\n",
       "    </tr>\n",
       "  </thead>\n",
       "  <tbody>\n",
       "    <tr>\n",
       "      <th>F</th>\n",
       "      <td>68756</td>\n",
       "      <td>69235</td>\n",
       "      <td>103960</td>\n",
       "      <td>36206</td>\n",
       "      <td>93239</td>\n",
       "      <td>64672</td>\n",
       "      <td>92875</td>\n",
       "      <td>89960</td>\n",
       "      <td>51072</td>\n",
       "      <td>60743</td>\n",
       "      <td>79307</td>\n",
       "      <td>79125</td>\n",
       "      <td>96753</td>\n",
       "      <td>28846</td>\n",
       "    </tr>\n",
       "    <tr>\n",
       "      <th>M</th>\n",
       "      <td>65362</td>\n",
       "      <td>61494</td>\n",
       "      <td>84069</td>\n",
       "      <td>28672</td>\n",
       "      <td>82952</td>\n",
       "      <td>57881</td>\n",
       "      <td>82585</td>\n",
       "      <td>71767</td>\n",
       "      <td>39582</td>\n",
       "      <td>53486</td>\n",
       "      <td>50778</td>\n",
       "      <td>60197</td>\n",
       "      <td>69710</td>\n",
       "      <td>29110</td>\n",
       "    </tr>\n",
       "  </tbody>\n",
       "</table>\n",
       "</div>"
      ],
      "text/plain": [
       "category  entertainment  food_dining  gas_transport  grocery_net  grocery_pos  \\\n",
       "gender                                                                          \n",
       "F                 68756        69235         103960        36206        93239   \n",
       "M                 65362        61494          84069        28672        82952   \n",
       "\n",
       "category  health_fitness   home  kids_pets  misc_net  misc_pos  personal_care  \\\n",
       "gender                                                                          \n",
       "F                  64672  92875      89960     51072     60743          79307   \n",
       "M                  57881  82585      71767     39582     53486          50778   \n",
       "\n",
       "category  shopping_net  shopping_pos  travel  \n",
       "gender                                        \n",
       "F                79125         96753   28846  \n",
       "M                60197         69710   29110  "
      ]
     },
     "execution_count": 17,
     "metadata": {},
     "output_type": "execute_result"
    }
   ],
   "source": [
    "spend_trend=data.groupby(['gender', 'category']).size().reset_index(name='count')\n",
    "spend_trend.pivot(index='gender', columns='category', values='count')\n",
    "\n",
    "# This table help us to understand spending trend based on gender"
   ]
  },
  {
   "cell_type": "code",
   "execution_count": 18,
   "id": "6c0ae44e",
   "metadata": {},
   "outputs": [
    {
     "data": {
      "text/html": [
       "<div>\n",
       "<style scoped>\n",
       "    .dataframe tbody tr th:only-of-type {\n",
       "        vertical-align: middle;\n",
       "    }\n",
       "\n",
       "    .dataframe tbody tr th {\n",
       "        vertical-align: top;\n",
       "    }\n",
       "\n",
       "    .dataframe thead th {\n",
       "        text-align: right;\n",
       "    }\n",
       "</style>\n",
       "<table border=\"1\" class=\"dataframe\">\n",
       "  <thead>\n",
       "    <tr style=\"text-align: right;\">\n",
       "      <th></th>\n",
       "      <th>category</th>\n",
       "      <th>is_fraud</th>\n",
       "      <th>count</th>\n",
       "    </tr>\n",
       "  </thead>\n",
       "  <tbody>\n",
       "    <tr>\n",
       "      <th>0</th>\n",
       "      <td>entertainment</td>\n",
       "      <td>0</td>\n",
       "      <td>133826</td>\n",
       "    </tr>\n",
       "    <tr>\n",
       "      <th>1</th>\n",
       "      <td>entertainment</td>\n",
       "      <td>1</td>\n",
       "      <td>292</td>\n",
       "    </tr>\n",
       "    <tr>\n",
       "      <th>2</th>\n",
       "      <td>food_dining</td>\n",
       "      <td>0</td>\n",
       "      <td>130524</td>\n",
       "    </tr>\n",
       "    <tr>\n",
       "      <th>3</th>\n",
       "      <td>food_dining</td>\n",
       "      <td>1</td>\n",
       "      <td>205</td>\n",
       "    </tr>\n",
       "    <tr>\n",
       "      <th>4</th>\n",
       "      <td>gas_transport</td>\n",
       "      <td>0</td>\n",
       "      <td>187257</td>\n",
       "    </tr>\n",
       "    <tr>\n",
       "      <th>5</th>\n",
       "      <td>gas_transport</td>\n",
       "      <td>1</td>\n",
       "      <td>772</td>\n",
       "    </tr>\n",
       "    <tr>\n",
       "      <th>6</th>\n",
       "      <td>grocery_net</td>\n",
       "      <td>0</td>\n",
       "      <td>64703</td>\n",
       "    </tr>\n",
       "    <tr>\n",
       "      <th>7</th>\n",
       "      <td>grocery_net</td>\n",
       "      <td>1</td>\n",
       "      <td>175</td>\n",
       "    </tr>\n",
       "    <tr>\n",
       "      <th>8</th>\n",
       "      <td>grocery_pos</td>\n",
       "      <td>0</td>\n",
       "      <td>173963</td>\n",
       "    </tr>\n",
       "    <tr>\n",
       "      <th>9</th>\n",
       "      <td>grocery_pos</td>\n",
       "      <td>1</td>\n",
       "      <td>2228</td>\n",
       "    </tr>\n",
       "    <tr>\n",
       "      <th>10</th>\n",
       "      <td>health_fitness</td>\n",
       "      <td>0</td>\n",
       "      <td>122368</td>\n",
       "    </tr>\n",
       "    <tr>\n",
       "      <th>11</th>\n",
       "      <td>health_fitness</td>\n",
       "      <td>1</td>\n",
       "      <td>185</td>\n",
       "    </tr>\n",
       "    <tr>\n",
       "      <th>12</th>\n",
       "      <td>home</td>\n",
       "      <td>0</td>\n",
       "      <td>175195</td>\n",
       "    </tr>\n",
       "    <tr>\n",
       "      <th>13</th>\n",
       "      <td>home</td>\n",
       "      <td>1</td>\n",
       "      <td>265</td>\n",
       "    </tr>\n",
       "    <tr>\n",
       "      <th>14</th>\n",
       "      <td>kids_pets</td>\n",
       "      <td>0</td>\n",
       "      <td>161423</td>\n",
       "    </tr>\n",
       "    <tr>\n",
       "      <th>15</th>\n",
       "      <td>kids_pets</td>\n",
       "      <td>1</td>\n",
       "      <td>304</td>\n",
       "    </tr>\n",
       "    <tr>\n",
       "      <th>16</th>\n",
       "      <td>misc_net</td>\n",
       "      <td>0</td>\n",
       "      <td>89472</td>\n",
       "    </tr>\n",
       "    <tr>\n",
       "      <th>17</th>\n",
       "      <td>misc_net</td>\n",
       "      <td>1</td>\n",
       "      <td>1182</td>\n",
       "    </tr>\n",
       "    <tr>\n",
       "      <th>18</th>\n",
       "      <td>misc_pos</td>\n",
       "      <td>0</td>\n",
       "      <td>113907</td>\n",
       "    </tr>\n",
       "    <tr>\n",
       "      <th>19</th>\n",
       "      <td>misc_pos</td>\n",
       "      <td>1</td>\n",
       "      <td>322</td>\n",
       "    </tr>\n",
       "    <tr>\n",
       "      <th>20</th>\n",
       "      <td>personal_care</td>\n",
       "      <td>0</td>\n",
       "      <td>129795</td>\n",
       "    </tr>\n",
       "    <tr>\n",
       "      <th>21</th>\n",
       "      <td>personal_care</td>\n",
       "      <td>1</td>\n",
       "      <td>290</td>\n",
       "    </tr>\n",
       "    <tr>\n",
       "      <th>22</th>\n",
       "      <td>shopping_net</td>\n",
       "      <td>0</td>\n",
       "      <td>137103</td>\n",
       "    </tr>\n",
       "    <tr>\n",
       "      <th>23</th>\n",
       "      <td>shopping_net</td>\n",
       "      <td>1</td>\n",
       "      <td>2219</td>\n",
       "    </tr>\n",
       "    <tr>\n",
       "      <th>24</th>\n",
       "      <td>shopping_pos</td>\n",
       "      <td>0</td>\n",
       "      <td>165407</td>\n",
       "    </tr>\n",
       "    <tr>\n",
       "      <th>25</th>\n",
       "      <td>shopping_pos</td>\n",
       "      <td>1</td>\n",
       "      <td>1056</td>\n",
       "    </tr>\n",
       "    <tr>\n",
       "      <th>26</th>\n",
       "      <td>travel</td>\n",
       "      <td>0</td>\n",
       "      <td>57800</td>\n",
       "    </tr>\n",
       "    <tr>\n",
       "      <th>27</th>\n",
       "      <td>travel</td>\n",
       "      <td>1</td>\n",
       "      <td>156</td>\n",
       "    </tr>\n",
       "  </tbody>\n",
       "</table>\n",
       "</div>"
      ],
      "text/plain": [
       "          category  is_fraud   count\n",
       "0    entertainment         0  133826\n",
       "1    entertainment         1     292\n",
       "2      food_dining         0  130524\n",
       "3      food_dining         1     205\n",
       "4    gas_transport         0  187257\n",
       "5    gas_transport         1     772\n",
       "6      grocery_net         0   64703\n",
       "7      grocery_net         1     175\n",
       "8      grocery_pos         0  173963\n",
       "9      grocery_pos         1    2228\n",
       "10  health_fitness         0  122368\n",
       "11  health_fitness         1     185\n",
       "12            home         0  175195\n",
       "13            home         1     265\n",
       "14       kids_pets         0  161423\n",
       "15       kids_pets         1     304\n",
       "16        misc_net         0   89472\n",
       "17        misc_net         1    1182\n",
       "18        misc_pos         0  113907\n",
       "19        misc_pos         1     322\n",
       "20   personal_care         0  129795\n",
       "21   personal_care         1     290\n",
       "22    shopping_net         0  137103\n",
       "23    shopping_net         1    2219\n",
       "24    shopping_pos         0  165407\n",
       "25    shopping_pos         1    1056\n",
       "26          travel         0   57800\n",
       "27          travel         1     156"
      ]
     },
     "execution_count": 18,
     "metadata": {},
     "output_type": "execute_result"
    }
   ],
   "source": [
    "data.groupby(['category','is_fraud']).size().reset_index(name='count')"
   ]
  },
  {
   "cell_type": "code",
   "execution_count": 19,
   "id": "9ba4dcf4",
   "metadata": {},
   "outputs": [
    {
     "data": {
      "text/html": [
       "<div>\n",
       "<style scoped>\n",
       "    .dataframe tbody tr th:only-of-type {\n",
       "        vertical-align: middle;\n",
       "    }\n",
       "\n",
       "    .dataframe tbody tr th {\n",
       "        vertical-align: top;\n",
       "    }\n",
       "\n",
       "    .dataframe thead th {\n",
       "        text-align: right;\n",
       "    }\n",
       "</style>\n",
       "<table border=\"1\" class=\"dataframe\">\n",
       "  <thead>\n",
       "    <tr style=\"text-align: right;\">\n",
       "      <th></th>\n",
       "      <th>age</th>\n",
       "      <th>count</th>\n",
       "    </tr>\n",
       "  </thead>\n",
       "  <tbody>\n",
       "    <tr>\n",
       "      <th>0</th>\n",
       "      <td>35</td>\n",
       "      <td>55353</td>\n",
       "    </tr>\n",
       "    <tr>\n",
       "      <th>1</th>\n",
       "      <td>47</td>\n",
       "      <td>54602</td>\n",
       "    </tr>\n",
       "    <tr>\n",
       "      <th>2</th>\n",
       "      <td>48</td>\n",
       "      <td>52272</td>\n",
       "    </tr>\n",
       "    <tr>\n",
       "      <th>3</th>\n",
       "      <td>34</td>\n",
       "      <td>49387</td>\n",
       "    </tr>\n",
       "    <tr>\n",
       "      <th>4</th>\n",
       "      <td>33</td>\n",
       "      <td>49326</td>\n",
       "    </tr>\n",
       "    <tr>\n",
       "      <th>...</th>\n",
       "      <td>...</td>\n",
       "      <td>...</td>\n",
       "    </tr>\n",
       "    <tr>\n",
       "      <th>78</th>\n",
       "      <td>87</td>\n",
       "      <td>3722</td>\n",
       "    </tr>\n",
       "    <tr>\n",
       "      <th>79</th>\n",
       "      <td>17</td>\n",
       "      <td>3049</td>\n",
       "    </tr>\n",
       "    <tr>\n",
       "      <th>80</th>\n",
       "      <td>14</td>\n",
       "      <td>1318</td>\n",
       "    </tr>\n",
       "    <tr>\n",
       "      <th>81</th>\n",
       "      <td>95</td>\n",
       "      <td>398</td>\n",
       "    </tr>\n",
       "    <tr>\n",
       "      <th>82</th>\n",
       "      <td>96</td>\n",
       "      <td>337</td>\n",
       "    </tr>\n",
       "  </tbody>\n",
       "</table>\n",
       "<p>83 rows × 2 columns</p>\n",
       "</div>"
      ],
      "text/plain": [
       "    age  count\n",
       "0    35  55353\n",
       "1    47  54602\n",
       "2    48  52272\n",
       "3    34  49387\n",
       "4    33  49326\n",
       "..  ...    ...\n",
       "78   87   3722\n",
       "79   17   3049\n",
       "80   14   1318\n",
       "81   95    398\n",
       "82   96    337\n",
       "\n",
       "[83 rows x 2 columns]"
      ]
     },
     "execution_count": 19,
     "metadata": {},
     "output_type": "execute_result"
    }
   ],
   "source": [
    "data.age.value_counts().reset_index(name='count').rename(columns={'index': 'age'})"
   ]
  },
  {
   "cell_type": "code",
   "execution_count": 20,
   "id": "f4937601",
   "metadata": {},
   "outputs": [
    {
     "data": {
      "image/png": "[encoded data removed]",
      "text/plain": [
       "<Figure size 800x600 with 1 Axes>"
      ]
     },
     "metadata": {},
     "output_type": "display_data"
    }
   ],
   "source": [
    "grouped_cat=data.groupby(['category','is_fraud']).size().reset_index(name='count')\n",
    "pivot_df_cat=grouped_cat.pivot(index='category', columns='is_fraud', values='count').sort_values(by=[1])\n",
    "\n",
    "ax = pivot_df_cat.plot(kind='bar', stacked=True, figsize=(8, 6))\n",
    "plt.xlabel('Category')\n",
    "plt.ylabel('Count')\n",
    "plt.title('Stacked Bar Chart of Fraud Counts by Category')\n",
    "plt.legend(title='Is Fraud', labels=['Not Fraud', 'Fraud'])\n",
    "\n",
    "plt.show()"
   ]
  },
  {
   "cell_type": "markdown",
   "id": "54e3e183",
   "metadata": {},
   "source": [
    "As we can see from the graph grocery_pos, shopping_net, pos_shopping, gas_transport and misc_net are categories that are affected by fraud.  \n",
    "We can understand that any transactions done via internet is succeptible to fraud.  "
   ]
  },
  {
   "cell_type": "code",
   "execution_count": 21,
   "id": "7e11bbc6",
   "metadata": {},
   "outputs": [
    {
     "data": {
      "image/png": "[encoded data removed]",
      "text/plain": [
       "<Figure size 2000x600 with 1 Axes>"
      ]
     },
     "metadata": {},
     "output_type": "display_data"
    }
   ],
   "source": [
    "grouped_gen_cat=grouped=data.groupby(['gender','category','is_fraud']).size().reset_index(name='count')\n",
    "pivot_df_gen_cat=grouped_gen_cat.pivot(index=['gender','category'], columns='is_fraud', values='count').fillna(0)\n",
    "\n",
    "fig, ax = plt.subplots(figsize=(20, 6))\n",
    "bar_width = 0.35\n",
    "x = np.arange(len(pivot_df_gen_cat.loc['M'].index))\n",
    "\n",
    "ax.bar(x, pivot_df_gen_cat.loc['F'][0], width=bar_width, label='F-Non-Fraud')\n",
    "ax.bar(x, pivot_df_gen_cat.loc['F'][1], width=bar_width, label='F-Fraud', bottom=pivot_df_gen_cat.loc['F'][0])\n",
    "\n",
    "\n",
    "x_offset = x + bar_width\n",
    "\n",
    "ax.bar(x_offset, pivot_df_gen_cat.loc['M'][0], width=bar_width, label='M-Non_Fraud')\n",
    "ax.bar(x_offset, pivot_df_gen_cat.loc['M'][1], width=bar_width, label='M-Fraud', bottom=pivot_df_gen_cat.loc['M'][0])\n",
    "\n",
    "ax.set_xlabel('Category')\n",
    "ax.set_ylabel('Values')\n",
    "ax.set_title('Two Sets of Stacked Bar Graphs with Offset')\n",
    "ax.set_xticks(x + bar_width / 2)\n",
    "ax.set_xticklabels(pivot_df_gen_cat.loc['M'].index)\n",
    "ax.legend()\n",
    "\n",
    "plt.tight_layout()\n",
    "plt.show()"
   ]
  },
  {
   "cell_type": "markdown",
   "id": "18c4ddd6",
   "metadata": {},
   "source": [
    "We draw another interesting plot, where we find fraud grouped on gender and category. My aim is to check, does fraudsters target people based on their shopping patterns? Ex:Females have a particular shopping trend than males; so in niche segments there is more chance of fraud.     \n",
    "Here we can see that there is fraud in female niche segment like personal_care, kids_pets; similarly we can see for men shopping_net, grocery_pos etc  "
   ]
  },
  {
   "cell_type": "code",
   "execution_count": 22,
   "id": "df43441f",
   "metadata": {},
   "outputs": [
    {
     "data": {
      "text/plain": [
       "Quantity surveyor                        69\n",
       "Naval architect                          66\n",
       "Materials engineer                       62\n",
       "Audiological scientist                   58\n",
       "Senior tax professional/tax inspector    57\n",
       "                                         ..\n",
       "Pension scheme manager                    4\n",
       "Designer, exhibition/display              4\n",
       "Statistician                              3\n",
       "Health physicist                          3\n",
       "Contractor                                2\n",
       "Name: job, Length: 494, dtype: int64"
      ]
     },
     "execution_count": 22,
     "metadata": {},
     "output_type": "execute_result"
    }
   ],
   "source": [
    "data[data['is_fraud']==1].job.value_counts()       # Check for proportionate of respective jobs and fraud happened "
   ]
  },
  {
   "cell_type": "code",
   "execution_count": 23,
   "id": "3c78def2",
   "metadata": {},
   "outputs": [
    {
     "data": {
      "image/png": "[encoded data removed]",
      "text/plain": [
       "<Figure size 800x600 with 1 Axes>"
      ]
     },
     "metadata": {},
     "output_type": "display_data"
    }
   ],
   "source": [
    "grouped_job=data.groupby(['job','is_fraud']).size().reset_index(name='count')\n",
    "pivot_df_job=grouped_job.pivot(index='job', columns='is_fraud', values='count').sort_values(by=[1], ascending=False)\n",
    "from matplotlib import pyplot as plt\n",
    "\n",
    "\n",
    "ax = pivot_df_job[:30][1].plot(kind='bar' ,figsize=(8, 6))\n",
    "\n",
    "\n",
    "plt.xlabel('Job')\n",
    "plt.ylabel('Count')\n",
    "plt.title('Stacked Bar Chart of Fraud Counts by Job')\n",
    "plt.legend(title='Is Fraud', labels=[ 'Fraud'])\n",
    "\n",
    "plt.show()"
   ]
  },
  {
   "cell_type": "code",
   "execution_count": 24,
   "id": "de79744b",
   "metadata": {},
   "outputs": [
    {
     "data": {
      "text/plain": [
       "<Axes: xlabel='job'>"
      ]
     },
     "execution_count": 24,
     "metadata": {},
     "output_type": "execute_result"
    },
    {
     "data": {
      "image/png": "[encoded data removed]",
      "text/plain": [
       "<Figure size 640x480 with 1 Axes>"
      ]
     },
     "metadata": {},
     "output_type": "display_data"
    }
   ],
   "source": [
    "bb=data.groupby(['job'])['is_fraud'].value_counts().reset_index(name='count')\n",
    "group_job= bb.pivot(index='job', columns='is_fraud', values='count').reset_index()\n",
    "group_job.columns.name = 'id'\n",
    "group_job.fillna(0, inplace=True)\n",
    "group_job['percent_fraud']=group_job[1] / (group_job[1] + group_job[0]) * 100\n",
    "group_job.set_index('job', inplace=True)\n",
    "group_job.sort_values('percent_fraud', ascending=False)[:20]['percent_fraud'].plot(kind='bar')"
   ]
  },
  {
   "cell_type": "code",
   "execution_count": 25,
   "id": "c4195098",
   "metadata": {},
   "outputs": [
    {
     "data": {
      "text/html": [
       "<div>\n",
       "<style scoped>\n",
       "    .dataframe tbody tr th:only-of-type {\n",
       "        vertical-align: middle;\n",
       "    }\n",
       "\n",
       "    .dataframe tbody tr th {\n",
       "        vertical-align: top;\n",
       "    }\n",
       "\n",
       "    .dataframe thead th {\n",
       "        text-align: right;\n",
       "    }\n",
       "</style>\n",
       "<table border=\"1\" class=\"dataframe\">\n",
       "  <thead>\n",
       "    <tr style=\"text-align: right;\">\n",
       "      <th>id</th>\n",
       "      <th>0</th>\n",
       "      <th>1</th>\n",
       "      <th>percent_fraud</th>\n",
       "    </tr>\n",
       "    <tr>\n",
       "      <th>job</th>\n",
       "      <th></th>\n",
       "      <th></th>\n",
       "      <th></th>\n",
       "    </tr>\n",
       "  </thead>\n",
       "  <tbody>\n",
       "    <tr>\n",
       "      <th>Homeopath</th>\n",
       "      <td>0.0</td>\n",
       "      <td>11.0</td>\n",
       "      <td>100.000000</td>\n",
       "    </tr>\n",
       "    <tr>\n",
       "      <th>Accountant, chartered</th>\n",
       "      <td>0.0</td>\n",
       "      <td>11.0</td>\n",
       "      <td>100.000000</td>\n",
       "    </tr>\n",
       "    <tr>\n",
       "      <th>Forest/woodland manager</th>\n",
       "      <td>0.0</td>\n",
       "      <td>9.0</td>\n",
       "      <td>100.000000</td>\n",
       "    </tr>\n",
       "    <tr>\n",
       "      <th>Software engineer</th>\n",
       "      <td>0.0</td>\n",
       "      <td>11.0</td>\n",
       "      <td>100.000000</td>\n",
       "    </tr>\n",
       "    <tr>\n",
       "      <th>Ship broker</th>\n",
       "      <td>0.0</td>\n",
       "      <td>7.0</td>\n",
       "      <td>100.000000</td>\n",
       "    </tr>\n",
       "    <tr>\n",
       "      <th>Armed forces technical officer</th>\n",
       "      <td>0.0</td>\n",
       "      <td>8.0</td>\n",
       "      <td>100.000000</td>\n",
       "    </tr>\n",
       "    <tr>\n",
       "      <th>Dancer</th>\n",
       "      <td>0.0</td>\n",
       "      <td>19.0</td>\n",
       "      <td>100.000000</td>\n",
       "    </tr>\n",
       "    <tr>\n",
       "      <th>Sales promotion account executive</th>\n",
       "      <td>0.0</td>\n",
       "      <td>14.0</td>\n",
       "      <td>100.000000</td>\n",
       "    </tr>\n",
       "    <tr>\n",
       "      <th>Air traffic controller</th>\n",
       "      <td>0.0</td>\n",
       "      <td>17.0</td>\n",
       "      <td>100.000000</td>\n",
       "    </tr>\n",
       "    <tr>\n",
       "      <th>Broadcast journalist</th>\n",
       "      <td>0.0</td>\n",
       "      <td>9.0</td>\n",
       "      <td>100.000000</td>\n",
       "    </tr>\n",
       "    <tr>\n",
       "      <th>Contracting civil engineer</th>\n",
       "      <td>0.0</td>\n",
       "      <td>7.0</td>\n",
       "      <td>100.000000</td>\n",
       "    </tr>\n",
       "    <tr>\n",
       "      <th>Industrial buyer</th>\n",
       "      <td>0.0</td>\n",
       "      <td>10.0</td>\n",
       "      <td>100.000000</td>\n",
       "    </tr>\n",
       "    <tr>\n",
       "      <th>Information officer</th>\n",
       "      <td>0.0</td>\n",
       "      <td>8.0</td>\n",
       "      <td>100.000000</td>\n",
       "    </tr>\n",
       "    <tr>\n",
       "      <th>Engineer, water</th>\n",
       "      <td>0.0</td>\n",
       "      <td>8.0</td>\n",
       "      <td>100.000000</td>\n",
       "    </tr>\n",
       "    <tr>\n",
       "      <th>Engineer, site</th>\n",
       "      <td>0.0</td>\n",
       "      <td>12.0</td>\n",
       "      <td>100.000000</td>\n",
       "    </tr>\n",
       "    <tr>\n",
       "      <th>Careers adviser</th>\n",
       "      <td>0.0</td>\n",
       "      <td>15.0</td>\n",
       "      <td>100.000000</td>\n",
       "    </tr>\n",
       "    <tr>\n",
       "      <th>Personnel officer</th>\n",
       "      <td>0.0</td>\n",
       "      <td>12.0</td>\n",
       "      <td>100.000000</td>\n",
       "    </tr>\n",
       "    <tr>\n",
       "      <th>Veterinary surgeon</th>\n",
       "      <td>0.0</td>\n",
       "      <td>8.0</td>\n",
       "      <td>100.000000</td>\n",
       "    </tr>\n",
       "    <tr>\n",
       "      <th>Operational investment banker</th>\n",
       "      <td>0.0</td>\n",
       "      <td>11.0</td>\n",
       "      <td>100.000000</td>\n",
       "    </tr>\n",
       "    <tr>\n",
       "      <th>Legal secretary</th>\n",
       "      <td>0.0</td>\n",
       "      <td>12.0</td>\n",
       "      <td>100.000000</td>\n",
       "    </tr>\n",
       "    <tr>\n",
       "      <th>Warehouse manager</th>\n",
       "      <td>0.0</td>\n",
       "      <td>7.0</td>\n",
       "      <td>100.000000</td>\n",
       "    </tr>\n",
       "    <tr>\n",
       "      <th>Solicitor</th>\n",
       "      <td>0.0</td>\n",
       "      <td>11.0</td>\n",
       "      <td>100.000000</td>\n",
       "    </tr>\n",
       "    <tr>\n",
       "      <th>TEFL teacher</th>\n",
       "      <td>728.0</td>\n",
       "      <td>32.0</td>\n",
       "      <td>4.210526</td>\n",
       "    </tr>\n",
       "    <tr>\n",
       "      <th>Lawyer</th>\n",
       "      <td>729.0</td>\n",
       "      <td>28.0</td>\n",
       "      <td>3.698811</td>\n",
       "    </tr>\n",
       "    <tr>\n",
       "      <th>Community development worker</th>\n",
       "      <td>729.0</td>\n",
       "      <td>22.0</td>\n",
       "      <td>2.929427</td>\n",
       "    </tr>\n",
       "    <tr>\n",
       "      <th>Accountant, chartered certified</th>\n",
       "      <td>730.0</td>\n",
       "      <td>21.0</td>\n",
       "      <td>2.796272</td>\n",
       "    </tr>\n",
       "    <tr>\n",
       "      <th>Horticultural consultant</th>\n",
       "      <td>727.0</td>\n",
       "      <td>19.0</td>\n",
       "      <td>2.546917</td>\n",
       "    </tr>\n",
       "    <tr>\n",
       "      <th>Clinical cytogeneticist</th>\n",
       "      <td>726.0</td>\n",
       "      <td>18.0</td>\n",
       "      <td>2.419355</td>\n",
       "    </tr>\n",
       "    <tr>\n",
       "      <th>Nature conservation officer</th>\n",
       "      <td>727.0</td>\n",
       "      <td>16.0</td>\n",
       "      <td>2.153432</td>\n",
       "    </tr>\n",
       "    <tr>\n",
       "      <th>Geneticist, molecular</th>\n",
       "      <td>729.0</td>\n",
       "      <td>16.0</td>\n",
       "      <td>2.147651</td>\n",
       "    </tr>\n",
       "    <tr>\n",
       "      <th>Writer</th>\n",
       "      <td>726.0</td>\n",
       "      <td>15.0</td>\n",
       "      <td>2.024291</td>\n",
       "    </tr>\n",
       "    <tr>\n",
       "      <th>Conservator, museum/gallery</th>\n",
       "      <td>728.0</td>\n",
       "      <td>15.0</td>\n",
       "      <td>2.018843</td>\n",
       "    </tr>\n",
       "    <tr>\n",
       "      <th>Magazine journalist</th>\n",
       "      <td>730.0</td>\n",
       "      <td>14.0</td>\n",
       "      <td>1.881720</td>\n",
       "    </tr>\n",
       "    <tr>\n",
       "      <th>Field trials officer</th>\n",
       "      <td>727.0</td>\n",
       "      <td>13.0</td>\n",
       "      <td>1.756757</td>\n",
       "    </tr>\n",
       "    <tr>\n",
       "      <th>Medical technical officer</th>\n",
       "      <td>1456.0</td>\n",
       "      <td>25.0</td>\n",
       "      <td>1.688049</td>\n",
       "    </tr>\n",
       "    <tr>\n",
       "      <th>Civil Service administrator</th>\n",
       "      <td>727.0</td>\n",
       "      <td>12.0</td>\n",
       "      <td>1.623816</td>\n",
       "    </tr>\n",
       "    <tr>\n",
       "      <th>Jewellery designer</th>\n",
       "      <td>1455.0</td>\n",
       "      <td>24.0</td>\n",
       "      <td>1.622718</td>\n",
       "    </tr>\n",
       "    <tr>\n",
       "      <th>Minerals surveyor</th>\n",
       "      <td>728.0</td>\n",
       "      <td>12.0</td>\n",
       "      <td>1.621622</td>\n",
       "    </tr>\n",
       "    <tr>\n",
       "      <th>Charity officer</th>\n",
       "      <td>728.0</td>\n",
       "      <td>12.0</td>\n",
       "      <td>1.621622</td>\n",
       "    </tr>\n",
       "    <tr>\n",
       "      <th>Pharmacist, hospital</th>\n",
       "      <td>1459.0</td>\n",
       "      <td>24.0</td>\n",
       "      <td>1.618341</td>\n",
       "    </tr>\n",
       "  </tbody>\n",
       "</table>\n",
       "</div>"
      ],
      "text/plain": [
       "id                                      0     1  percent_fraud\n",
       "job                                                           \n",
       "Homeopath                             0.0  11.0     100.000000\n",
       "Accountant, chartered                 0.0  11.0     100.000000\n",
       "Forest/woodland manager               0.0   9.0     100.000000\n",
       "Software engineer                     0.0  11.0     100.000000\n",
       "Ship broker                           0.0   7.0     100.000000\n",
       "Armed forces technical officer        0.0   8.0     100.000000\n",
       "Dancer                                0.0  19.0     100.000000\n",
       "Sales promotion account executive     0.0  14.0     100.000000\n",
       "Air traffic controller                0.0  17.0     100.000000\n",
       "Broadcast journalist                  0.0   9.0     100.000000\n",
       "Contracting civil engineer            0.0   7.0     100.000000\n",
       "Industrial buyer                      0.0  10.0     100.000000\n",
       "Information officer                   0.0   8.0     100.000000\n",
       "Engineer, water                       0.0   8.0     100.000000\n",
       "Engineer, site                        0.0  12.0     100.000000\n",
       "Careers adviser                       0.0  15.0     100.000000\n",
       "Personnel officer                     0.0  12.0     100.000000\n",
       "Veterinary surgeon                    0.0   8.0     100.000000\n",
       "Operational investment banker         0.0  11.0     100.000000\n",
       "Legal secretary                       0.0  12.0     100.000000\n",
       "Warehouse manager                     0.0   7.0     100.000000\n",
       "Solicitor                             0.0  11.0     100.000000\n",
       "TEFL teacher                        728.0  32.0       4.210526\n",
       "Lawyer                              729.0  28.0       3.698811\n",
       "Community development worker        729.0  22.0       2.929427\n",
       "Accountant, chartered certified     730.0  21.0       2.796272\n",
       "Horticultural consultant            727.0  19.0       2.546917\n",
       "Clinical cytogeneticist             726.0  18.0       2.419355\n",
       "Nature conservation officer         727.0  16.0       2.153432\n",
       "Geneticist, molecular               729.0  16.0       2.147651\n",
       "Writer                              726.0  15.0       2.024291\n",
       "Conservator, museum/gallery         728.0  15.0       2.018843\n",
       "Magazine journalist                 730.0  14.0       1.881720\n",
       "Field trials officer                727.0  13.0       1.756757\n",
       "Medical technical officer          1456.0  25.0       1.688049\n",
       "Civil Service administrator         727.0  12.0       1.623816\n",
       "Jewellery designer                 1455.0  24.0       1.622718\n",
       "Minerals surveyor                   728.0  12.0       1.621622\n",
       "Charity officer                     728.0  12.0       1.621622\n",
       "Pharmacist, hospital               1459.0  24.0       1.618341"
      ]
     },
     "execution_count": 25,
     "metadata": {},
     "output_type": "execute_result"
    }
   ],
   "source": [
    "group_job.sort_values('percent_fraud', ascending=False)[:40]"
   ]
  },
  {
   "cell_type": "markdown",
   "id": "25057145",
   "metadata": {},
   "source": [
    "Intutively we expect professionals with high technicals skills to be less affected by Frauds. But we can see there are software engineers who have faced fraud. This can be purely coincident. Also number of such instances are very less. Expect for few professions(which are also few in number in the given dataset. So we can't arrive at any conclusive observation from the dataset regarding job nature of user and frauds."
   ]
  },
  {
   "cell_type": "code",
   "execution_count": 26,
   "id": "685afbc1",
   "metadata": {},
   "outputs": [
    {
     "data": {
      "text/plain": [
       "state\n",
       "NY    730.0\n",
       "TX    592.0\n",
       "PA    572.0\n",
       "CA    402.0\n",
       "OH    360.0\n",
       "FL    334.0\n",
       "IL    324.0\n",
       "MI    299.0\n",
       "MN    280.0\n",
       "AL    278.0\n",
       "VA    273.0\n",
       "MO    262.0\n",
       "SC    236.0\n",
       "WI    228.0\n",
       "KY    222.0\n",
       "IN    217.0\n",
       "NE    216.0\n",
       "IA    211.0\n",
       "GA    204.0\n",
       "MD    203.0\n",
       "OK    200.0\n",
       "OR    197.0\n",
       "NC    195.0\n",
       "AR    195.0\n",
       "KS    193.0\n",
       "MS    169.0\n",
       "NJ    161.0\n",
       "TN    159.0\n",
       "WV    146.0\n",
       "ME    134.0\n",
       "Name: 1, dtype: float64"
      ]
     },
     "execution_count": 26,
     "metadata": {},
     "output_type": "execute_result"
    }
   ],
   "source": [
    "grouped_state=data.groupby(['state','is_fraud']).size().reset_index(name='count')\n",
    "pivot_df_state=grouped_state.pivot(index='state', columns='is_fraud', values='count').sort_values(by=[1], ascending=False)\n",
    "\n",
    "pivot_df_state.iloc[:30][1]"
   ]
  },
  {
   "cell_type": "code",
   "execution_count": 27,
   "id": "04fb9de3",
   "metadata": {},
   "outputs": [
    {
     "data": {
      "text/html": [
       "<div>\n",
       "<style scoped>\n",
       "    .dataframe tbody tr th:only-of-type {\n",
       "        vertical-align: middle;\n",
       "    }\n",
       "\n",
       "    .dataframe tbody tr th {\n",
       "        vertical-align: top;\n",
       "    }\n",
       "\n",
       "    .dataframe thead th {\n",
       "        text-align: right;\n",
       "    }\n",
       "</style>\n",
       "<table border=\"1\" class=\"dataframe\">\n",
       "  <thead>\n",
       "    <tr style=\"text-align: right;\">\n",
       "      <th></th>\n",
       "      <th>state</th>\n",
       "      <th>city_pop</th>\n",
       "    </tr>\n",
       "  </thead>\n",
       "  <tbody>\n",
       "    <tr>\n",
       "      <th>0</th>\n",
       "      <td>AK</td>\n",
       "      <td>552501</td>\n",
       "    </tr>\n",
       "    <tr>\n",
       "      <th>1</th>\n",
       "      <td>AL</td>\n",
       "      <td>4980741123</td>\n",
       "    </tr>\n",
       "    <tr>\n",
       "      <th>2</th>\n",
       "      <td>AR</td>\n",
       "      <td>180986631</td>\n",
       "    </tr>\n",
       "    <tr>\n",
       "      <th>3</th>\n",
       "      <td>AZ</td>\n",
       "      <td>9624310285</td>\n",
       "    </tr>\n",
       "    <tr>\n",
       "      <th>4</th>\n",
       "      <td>CA</td>\n",
       "      <td>15382576759</td>\n",
       "    </tr>\n",
       "    <tr>\n",
       "      <th>5</th>\n",
       "      <td>CO</td>\n",
       "      <td>3291927380</td>\n",
       "    </tr>\n",
       "    <tr>\n",
       "      <th>6</th>\n",
       "      <td>CT</td>\n",
       "      <td>21799926</td>\n",
       "    </tr>\n",
       "    <tr>\n",
       "      <th>7</th>\n",
       "      <td>DC</td>\n",
       "      <td>3086838990</td>\n",
       "    </tr>\n",
       "    <tr>\n",
       "      <th>8</th>\n",
       "      <td>DE</td>\n",
       "      <td>169191</td>\n",
       "    </tr>\n",
       "    <tr>\n",
       "      <th>9</th>\n",
       "      <td>FL</td>\n",
       "      <td>8787415815</td>\n",
       "    </tr>\n",
       "    <tr>\n",
       "      <th>10</th>\n",
       "      <td>GA</td>\n",
       "      <td>921299450</td>\n",
       "    </tr>\n",
       "    <tr>\n",
       "      <th>11</th>\n",
       "      <td>HI</td>\n",
       "      <td>10393654</td>\n",
       "    </tr>\n",
       "    <tr>\n",
       "      <th>12</th>\n",
       "      <td>IA</td>\n",
       "      <td>559290596</td>\n",
       "    </tr>\n",
       "    <tr>\n",
       "      <th>13</th>\n",
       "      <td>ID</td>\n",
       "      <td>312730763</td>\n",
       "    </tr>\n",
       "    <tr>\n",
       "      <th>14</th>\n",
       "      <td>IL</td>\n",
       "      <td>585056644</td>\n",
       "    </tr>\n",
       "    <tr>\n",
       "      <th>15</th>\n",
       "      <td>IN</td>\n",
       "      <td>5557379662</td>\n",
       "    </tr>\n",
       "    <tr>\n",
       "      <th>16</th>\n",
       "      <td>KS</td>\n",
       "      <td>2263850950</td>\n",
       "    </tr>\n",
       "    <tr>\n",
       "      <th>17</th>\n",
       "      <td>KY</td>\n",
       "      <td>2373742153</td>\n",
       "    </tr>\n",
       "    <tr>\n",
       "      <th>18</th>\n",
       "      <td>LA</td>\n",
       "      <td>2541838590</td>\n",
       "    </tr>\n",
       "    <tr>\n",
       "      <th>19</th>\n",
       "      <td>MA</td>\n",
       "      <td>505337594</td>\n",
       "    </tr>\n",
       "    <tr>\n",
       "      <th>20</th>\n",
       "      <td>MD</td>\n",
       "      <td>379712601</td>\n",
       "    </tr>\n",
       "    <tr>\n",
       "      <th>21</th>\n",
       "      <td>ME</td>\n",
       "      <td>112374234</td>\n",
       "    </tr>\n",
       "    <tr>\n",
       "      <th>22</th>\n",
       "      <td>MI</td>\n",
       "      <td>5254143791</td>\n",
       "    </tr>\n",
       "    <tr>\n",
       "      <th>23</th>\n",
       "      <td>MN</td>\n",
       "      <td>4546227450</td>\n",
       "    </tr>\n",
       "    <tr>\n",
       "      <th>24</th>\n",
       "      <td>MO</td>\n",
       "      <td>3592863501</td>\n",
       "    </tr>\n",
       "    <tr>\n",
       "      <th>25</th>\n",
       "      <td>MS</td>\n",
       "      <td>347275074</td>\n",
       "    </tr>\n",
       "    <tr>\n",
       "      <th>26</th>\n",
       "      <td>MT</td>\n",
       "      <td>63319212</td>\n",
       "    </tr>\n",
       "    <tr>\n",
       "      <th>27</th>\n",
       "      <td>NC</td>\n",
       "      <td>2104110041</td>\n",
       "    </tr>\n",
       "    <tr>\n",
       "      <th>28</th>\n",
       "      <td>ND</td>\n",
       "      <td>8813161</td>\n",
       "    </tr>\n",
       "    <tr>\n",
       "      <th>29</th>\n",
       "      <td>NE</td>\n",
       "      <td>415859386</td>\n",
       "    </tr>\n",
       "    <tr>\n",
       "      <th>30</th>\n",
       "      <td>NH</td>\n",
       "      <td>35875964</td>\n",
       "    </tr>\n",
       "    <tr>\n",
       "      <th>31</th>\n",
       "      <td>NJ</td>\n",
       "      <td>971752081</td>\n",
       "    </tr>\n",
       "    <tr>\n",
       "      <th>32</th>\n",
       "      <td>NM</td>\n",
       "      <td>1077932797</td>\n",
       "    </tr>\n",
       "    <tr>\n",
       "      <th>33</th>\n",
       "      <td>NV</td>\n",
       "      <td>1388070556</td>\n",
       "    </tr>\n",
       "    <tr>\n",
       "      <th>34</th>\n",
       "      <td>NY</td>\n",
       "      <td>18048074359</td>\n",
       "    </tr>\n",
       "    <tr>\n",
       "      <th>35</th>\n",
       "      <td>OH</td>\n",
       "      <td>1833116846</td>\n",
       "    </tr>\n",
       "    <tr>\n",
       "      <th>36</th>\n",
       "      <td>OK</td>\n",
       "      <td>3305317774</td>\n",
       "    </tr>\n",
       "    <tr>\n",
       "      <th>37</th>\n",
       "      <td>OR</td>\n",
       "      <td>1822035405</td>\n",
       "    </tr>\n",
       "    <tr>\n",
       "      <th>38</th>\n",
       "      <td>PA</td>\n",
       "      <td>10580514525</td>\n",
       "    </tr>\n",
       "    <tr>\n",
       "      <th>39</th>\n",
       "      <td>RI</td>\n",
       "      <td>151660395</td>\n",
       "    </tr>\n",
       "    <tr>\n",
       "      <th>40</th>\n",
       "      <td>SC</td>\n",
       "      <td>1123608023</td>\n",
       "    </tr>\n",
       "    <tr>\n",
       "      <th>41</th>\n",
       "      <td>SD</td>\n",
       "      <td>23236638</td>\n",
       "    </tr>\n",
       "    <tr>\n",
       "      <th>42</th>\n",
       "      <td>TN</td>\n",
       "      <td>2481185291</td>\n",
       "    </tr>\n",
       "    <tr>\n",
       "      <th>43</th>\n",
       "      <td>TX</td>\n",
       "      <td>38713285730</td>\n",
       "    </tr>\n",
       "    <tr>\n",
       "      <th>44</th>\n",
       "      <td>UT</td>\n",
       "      <td>98297162</td>\n",
       "    </tr>\n",
       "    <tr>\n",
       "      <th>45</th>\n",
       "      <td>VA</td>\n",
       "      <td>1648987389</td>\n",
       "    </tr>\n",
       "    <tr>\n",
       "      <th>46</th>\n",
       "      <td>VT</td>\n",
       "      <td>48294499</td>\n",
       "    </tr>\n",
       "    <tr>\n",
       "      <th>47</th>\n",
       "      <td>WA</td>\n",
       "      <td>482653182</td>\n",
       "    </tr>\n",
       "    <tr>\n",
       "      <th>48</th>\n",
       "      <td>WI</td>\n",
       "      <td>2097287926</td>\n",
       "    </tr>\n",
       "    <tr>\n",
       "      <th>49</th>\n",
       "      <td>WV</td>\n",
       "      <td>185232009</td>\n",
       "    </tr>\n",
       "    <tr>\n",
       "      <th>50</th>\n",
       "      <td>WY</td>\n",
       "      <td>273655140</td>\n",
       "    </tr>\n",
       "  </tbody>\n",
       "</table>\n",
       "</div>"
      ],
      "text/plain": [
       "   state     city_pop\n",
       "0     AK       552501\n",
       "1     AL   4980741123\n",
       "2     AR    180986631\n",
       "3     AZ   9624310285\n",
       "4     CA  15382576759\n",
       "5     CO   3291927380\n",
       "6     CT     21799926\n",
       "7     DC   3086838990\n",
       "8     DE       169191\n",
       "9     FL   8787415815\n",
       "10    GA    921299450\n",
       "11    HI     10393654\n",
       "12    IA    559290596\n",
       "13    ID    312730763\n",
       "14    IL    585056644\n",
       "15    IN   5557379662\n",
       "16    KS   2263850950\n",
       "17    KY   2373742153\n",
       "18    LA   2541838590\n",
       "19    MA    505337594\n",
       "20    MD    379712601\n",
       "21    ME    112374234\n",
       "22    MI   5254143791\n",
       "23    MN   4546227450\n",
       "24    MO   3592863501\n",
       "25    MS    347275074\n",
       "26    MT     63319212\n",
       "27    NC   2104110041\n",
       "28    ND      8813161\n",
       "29    NE    415859386\n",
       "30    NH     35875964\n",
       "31    NJ    971752081\n",
       "32    NM   1077932797\n",
       "33    NV   1388070556\n",
       "34    NY  18048074359\n",
       "35    OH   1833116846\n",
       "36    OK   3305317774\n",
       "37    OR   1822035405\n",
       "38    PA  10580514525\n",
       "39    RI    151660395\n",
       "40    SC   1123608023\n",
       "41    SD     23236638\n",
       "42    TN   2481185291\n",
       "43    TX  38713285730\n",
       "44    UT     98297162\n",
       "45    VA   1648987389\n",
       "46    VT     48294499\n",
       "47    WA    482653182\n",
       "48    WI   2097287926\n",
       "49    WV    185232009\n",
       "50    WY    273655140"
      ]
     },
     "execution_count": 27,
     "metadata": {},
     "output_type": "execute_result"
    }
   ],
   "source": [
    "data.groupby('state')['city_pop'].sum().reset_index()"
   ]
  },
  {
   "cell_type": "code",
   "execution_count": null,
   "id": "50a50ebd",
   "metadata": {},
   "outputs": [],
   "source": []
  },
  {
   "cell_type": "code",
   "execution_count": 28,
   "id": "f9de3a7a",
   "metadata": {},
   "outputs": [
    {
     "data": {
      "image/png": "[encoded data removed]",
      "text/plain": [
       "<Figure size 1200x600 with 1 Axes>"
      ]
     },
     "metadata": {},
     "output_type": "display_data"
    }
   ],
   "source": [
    "fig, ax = plt.subplots(figsize=(12,6))\n",
    "sns.countplot(x=data[data['is_fraud'] == 1].state  , ax=ax)\n",
    "\n",
    "plt.title(\"Number of Credit Card Frauds by State\")\n",
    "plt.xticks(rotation=90)\n",
    "plt.show()"
   ]
  },
  {
   "cell_type": "markdown",
   "id": "4d0ed606",
   "metadata": {},
   "source": [
    "As we can see, the number of frauds are more in states with high population. So population plays a role in fraud."
   ]
  },
  {
   "cell_type": "code",
   "execution_count": 29,
   "id": "c53a3d56",
   "metadata": {},
   "outputs": [
    {
     "data": {
      "text/plain": [
       "<matplotlib.legend.Legend at 0x2c82bc91110>"
      ]
     },
     "execution_count": 29,
     "metadata": {},
     "output_type": "execute_result"
    },
    {
     "data": {
      "image/png": "[encoded data removed]",
      "text/plain": [
       "<Figure size 640x480 with 1 Axes>"
      ]
     },
     "metadata": {},
     "output_type": "display_data"
    }
   ],
   "source": [
    "ax=sns.kdeplot(x='age',data=data, hue='is_fraud', common_norm=False)\n",
    "ax.set_xlabel('Credit Card Holder Age')\n",
    "ax.set_ylabel('Density')\n",
    "plt.xticks(np.arange(0,110,5))\n",
    "plt.title('Age Distribution in Fraudulent vs Non-Fraudulent Transactions')\n",
    "plt.legend(title='Type', labels=['Fraud', 'Not Fraud'])"
   ]
  },
  {
   "cell_type": "markdown",
   "id": "cb2293f4",
   "metadata": {},
   "source": [
    "We can see that more number of Fraud happens for people of age group between 25 to 60. This is mainly because, number of users in the the above age group is high compared to other age groups. Also most of the earning population are provided with credit card in comparison to students or those who have retired from work"
   ]
  },
  {
   "cell_type": "code",
   "execution_count": 30,
   "id": "98f45419",
   "metadata": {},
   "outputs": [
    {
     "data": {
      "image/png": "[encoded data removed]",
      "text/plain": [
       "<Figure size 640x480 with 1 Axes>"
      ]
     },
     "metadata": {},
     "output_type": "display_data"
    }
   ],
   "source": [
    "ax=sns.histplot(x='age',data=data[data['is_fraud']==1],bins='10', binwidth=5)\n",
    "ax.set_xlabel('Credit Card Holder Age')\n",
    "ax.set_ylabel('Density')\n",
    "plt.xticks(np.arange(0,110,5))\n",
    "plt.title('Age Distribution in Fraudulent vs Non-Fraudulent Transactions')\n",
    "plt.legend(title='Type', labels=['Fraud'])\n",
    "plt.show()"
   ]
  },
  {
   "cell_type": "code",
   "execution_count": 31,
   "id": "49b85d12",
   "metadata": {},
   "outputs": [
    {
     "data": {
      "image/png": "[encoded data removed]",
      "text/plain": [
       "<Figure size 1200x600 with 1 Axes>"
      ]
     },
     "metadata": {},
     "output_type": "display_data"
    }
   ],
   "source": [
    "fig, ax = plt.subplots(figsize=(12,6))\n",
    "sns.countplot(x=data[data['is_fraud'] == 1].trans_time_hour  , ax=ax)\n",
    "plt.title(\" Time Vs Fraud\")\n",
    "plt.xticks(rotation=45) \n",
    "plt.show()"
   ]
  },
  {
   "cell_type": "code",
   "execution_count": 32,
   "id": "1be22cb0",
   "metadata": {},
   "outputs": [
    {
     "data": {
      "image/png": "[encoded data removed]",
      "text/plain": [
       "<Figure size 1200x600 with 1 Axes>"
      ]
     },
     "metadata": {},
     "output_type": "display_data"
    }
   ],
   "source": [
    "fig, ax = plt.subplots(figsize=(12,6))\n",
    "sns.countplot(x=data[data['is_fraud'] == 1].trans_month  , ax=ax)\n",
    "plt.title(\" Time Vs Fraud\")\n",
    "plt.xticks(rotation=45)\n",
    "plt.show()"
   ]
  },
  {
   "cell_type": "markdown",
   "id": "d2eddd91",
   "metadata": {},
   "source": [
    "From this we can understand that most of the frauds took place during late night transactions. So duration during day is a key factor to monitor fraud. At the same time we can't see much variation in the fraud happend over different months over year. "
   ]
  },
  {
   "cell_type": "code",
   "execution_count": 33,
   "id": "0aaa41f4",
   "metadata": {},
   "outputs": [
    {
     "data": {
      "image/png": "[encoded data removed]",
      "text/plain": [
       "<Figure size 640x480 with 1 Axes>"
      ]
     },
     "metadata": {},
     "output_type": "display_data"
    }
   ],
   "source": [
    "ax=sns.histplot(x='amt',data=data[data['is_fraud']==1],bins=100000, binwidth=1)\n",
    "ax.set_xlabel('Transaction Amount' )\n",
    "ax.set_ylabel('Density')\n",
    "\n",
    "plt.title('Amount in Fraud Transactions')\n",
    "plt.legend(title='Type', labels=['Fraud'])\n",
    "plt.show()"
   ]
  },
  {
   "cell_type": "code",
   "execution_count": 34,
   "id": "7b9def40",
   "metadata": {},
   "outputs": [
    {
     "data": {
      "image/png": "[encoded data removed]",
      "text/plain": [
       "<Figure size 640x480 with 1 Axes>"
      ]
     },
     "metadata": {},
     "output_type": "display_data"
    }
   ],
   "source": [
    "count_bin=pd.DataFrame()\n",
    "bins=[0,50, 100, 500, 1000, 5000, 10000, 15000, 20000, 25000]\n",
    "count_bin['fraud']=pd.DataFrame(pd.cut(data[data['is_fraud'] == 1].amt, bins=bins)).value_counts()\n",
    "count_bin=count_bin.reset_index()\n",
    "count_bin.plot.bar(x='amt')\n",
    "plt.show()"
   ]
  },
  {
   "cell_type": "markdown",
   "id": "9562b2df",
   "metadata": {},
   "source": [
    "Among the fraud transactions, Significant number of fraud happened under 50\\\\$ range. As we can see also there is large number of transactions in the range of 500\\\\$ - 1000\\\\$ followed by 100\\\\$-500\\\\$. \n"
   ]
  },
  {
   "cell_type": "code",
   "execution_count": 35,
   "id": "98e68d65",
   "metadata": {},
   "outputs": [],
   "source": [
    "data_bckp=data.copy()\n",
    "#data=data_bckp.copy()"
   ]
  },
  {
   "cell_type": "code",
   "execution_count": 36,
   "id": "aa1ba5a7",
   "metadata": {},
   "outputs": [],
   "source": [
    "columns_dropped=['Unnamed: 0', 'trans_date_trans_time', 'cc_num', 'merchant', \n",
    "        'first', 'last', 'street', 'city', 'state', 'zip',\n",
    "        'city_pop', 'job','dob' , 'trans_num', 'unix_time','trans_month']"
   ]
  },
  {
   "cell_type": "markdown",
   "id": "bab78773",
   "metadata": {},
   "source": [
    "###### Rationale Behind Dropping Columns\n",
    "\n",
    "1. Aas we analyzed transaction time is a major factor to check fraud or not. So we extract transaction hour separately.  \n",
    "2. cc_num, first_name, last_name are insignificant.\n",
    "3. All location related details can be encoded by using latitude and longitude, so all locationn details in categorical format can be ignored.  \n",
    "4. Date of birth was converted into age at the time of transaction, so we will be using age feature\n",
    "5. Since we couldn't find strong relation between job and fraud events we are dropping the column\n",
    "6. Since there are many merchants and merchant type is captured in category we are not using merchant feature"
   ]
  },
  {
   "cell_type": "code",
   "execution_count": 37,
   "id": "9c9893ee",
   "metadata": {},
   "outputs": [],
   "source": [
    "data.drop(columns=columns_dropped, inplace=True)"
   ]
  },
  {
   "cell_type": "code",
   "execution_count": 38,
   "id": "1324ae6e",
   "metadata": {},
   "outputs": [
    {
     "data": {
      "text/html": [
       "<div>\n",
       "<style scoped>\n",
       "    .dataframe tbody tr th:only-of-type {\n",
       "        vertical-align: middle;\n",
       "    }\n",
       "\n",
       "    .dataframe tbody tr th {\n",
       "        vertical-align: top;\n",
       "    }\n",
       "\n",
       "    .dataframe thead th {\n",
       "        text-align: right;\n",
       "    }\n",
       "</style>\n",
       "<table border=\"1\" class=\"dataframe\">\n",
       "  <thead>\n",
       "    <tr style=\"text-align: right;\">\n",
       "      <th></th>\n",
       "      <th>category</th>\n",
       "      <th>amt</th>\n",
       "      <th>gender</th>\n",
       "      <th>lat</th>\n",
       "      <th>long</th>\n",
       "      <th>merch_lat</th>\n",
       "      <th>merch_long</th>\n",
       "      <th>is_fraud</th>\n",
       "      <th>age</th>\n",
       "      <th>trans_time_hour</th>\n",
       "    </tr>\n",
       "  </thead>\n",
       "  <tbody>\n",
       "    <tr>\n",
       "      <th>0</th>\n",
       "      <td>misc_net</td>\n",
       "      <td>4.97</td>\n",
       "      <td>F</td>\n",
       "      <td>36.0788</td>\n",
       "      <td>-81.1781</td>\n",
       "      <td>36.011293</td>\n",
       "      <td>-82.048315</td>\n",
       "      <td>0</td>\n",
       "      <td>31</td>\n",
       "      <td>0</td>\n",
       "    </tr>\n",
       "    <tr>\n",
       "      <th>1</th>\n",
       "      <td>grocery_pos</td>\n",
       "      <td>107.23</td>\n",
       "      <td>F</td>\n",
       "      <td>48.8878</td>\n",
       "      <td>-118.2105</td>\n",
       "      <td>49.159047</td>\n",
       "      <td>-118.186462</td>\n",
       "      <td>0</td>\n",
       "      <td>41</td>\n",
       "      <td>0</td>\n",
       "    </tr>\n",
       "    <tr>\n",
       "      <th>2</th>\n",
       "      <td>entertainment</td>\n",
       "      <td>220.11</td>\n",
       "      <td>M</td>\n",
       "      <td>42.1808</td>\n",
       "      <td>-112.2620</td>\n",
       "      <td>43.150704</td>\n",
       "      <td>-112.154481</td>\n",
       "      <td>0</td>\n",
       "      <td>57</td>\n",
       "      <td>0</td>\n",
       "    </tr>\n",
       "    <tr>\n",
       "      <th>3</th>\n",
       "      <td>gas_transport</td>\n",
       "      <td>45.00</td>\n",
       "      <td>M</td>\n",
       "      <td>46.2306</td>\n",
       "      <td>-112.1138</td>\n",
       "      <td>47.034331</td>\n",
       "      <td>-112.561071</td>\n",
       "      <td>0</td>\n",
       "      <td>52</td>\n",
       "      <td>0</td>\n",
       "    </tr>\n",
       "    <tr>\n",
       "      <th>4</th>\n",
       "      <td>misc_pos</td>\n",
       "      <td>41.96</td>\n",
       "      <td>M</td>\n",
       "      <td>38.4207</td>\n",
       "      <td>-79.4629</td>\n",
       "      <td>38.674999</td>\n",
       "      <td>-78.632459</td>\n",
       "      <td>0</td>\n",
       "      <td>33</td>\n",
       "      <td>0</td>\n",
       "    </tr>\n",
       "    <tr>\n",
       "      <th>...</th>\n",
       "      <td>...</td>\n",
       "      <td>...</td>\n",
       "      <td>...</td>\n",
       "      <td>...</td>\n",
       "      <td>...</td>\n",
       "      <td>...</td>\n",
       "      <td>...</td>\n",
       "      <td>...</td>\n",
       "      <td>...</td>\n",
       "      <td>...</td>\n",
       "    </tr>\n",
       "    <tr>\n",
       "      <th>555714</th>\n",
       "      <td>health_fitness</td>\n",
       "      <td>43.77</td>\n",
       "      <td>M</td>\n",
       "      <td>40.4931</td>\n",
       "      <td>-91.8912</td>\n",
       "      <td>39.946837</td>\n",
       "      <td>-91.333331</td>\n",
       "      <td>0</td>\n",
       "      <td>54</td>\n",
       "      <td>23</td>\n",
       "    </tr>\n",
       "    <tr>\n",
       "      <th>555715</th>\n",
       "      <td>kids_pets</td>\n",
       "      <td>111.84</td>\n",
       "      <td>M</td>\n",
       "      <td>29.0393</td>\n",
       "      <td>-95.4401</td>\n",
       "      <td>29.661049</td>\n",
       "      <td>-96.186633</td>\n",
       "      <td>0</td>\n",
       "      <td>21</td>\n",
       "      <td>23</td>\n",
       "    </tr>\n",
       "    <tr>\n",
       "      <th>555716</th>\n",
       "      <td>kids_pets</td>\n",
       "      <td>86.88</td>\n",
       "      <td>F</td>\n",
       "      <td>46.1966</td>\n",
       "      <td>-118.9017</td>\n",
       "      <td>46.658340</td>\n",
       "      <td>-119.715054</td>\n",
       "      <td>0</td>\n",
       "      <td>39</td>\n",
       "      <td>23</td>\n",
       "    </tr>\n",
       "    <tr>\n",
       "      <th>555717</th>\n",
       "      <td>travel</td>\n",
       "      <td>7.99</td>\n",
       "      <td>M</td>\n",
       "      <td>44.6255</td>\n",
       "      <td>-116.4493</td>\n",
       "      <td>44.470525</td>\n",
       "      <td>-117.080888</td>\n",
       "      <td>0</td>\n",
       "      <td>55</td>\n",
       "      <td>23</td>\n",
       "    </tr>\n",
       "    <tr>\n",
       "      <th>555718</th>\n",
       "      <td>entertainment</td>\n",
       "      <td>38.13</td>\n",
       "      <td>M</td>\n",
       "      <td>35.6665</td>\n",
       "      <td>-97.4798</td>\n",
       "      <td>36.210097</td>\n",
       "      <td>-97.036372</td>\n",
       "      <td>0</td>\n",
       "      <td>27</td>\n",
       "      <td>23</td>\n",
       "    </tr>\n",
       "  </tbody>\n",
       "</table>\n",
       "<p>1852394 rows × 10 columns</p>\n",
       "</div>"
      ],
      "text/plain": [
       "              category     amt gender      lat      long  merch_lat  \\\n",
       "0             misc_net    4.97      F  36.0788  -81.1781  36.011293   \n",
       "1          grocery_pos  107.23      F  48.8878 -118.2105  49.159047   \n",
       "2        entertainment  220.11      M  42.1808 -112.2620  43.150704   \n",
       "3        gas_transport   45.00      M  46.2306 -112.1138  47.034331   \n",
       "4             misc_pos   41.96      M  38.4207  -79.4629  38.674999   \n",
       "...                ...     ...    ...      ...       ...        ...   \n",
       "555714  health_fitness   43.77      M  40.4931  -91.8912  39.946837   \n",
       "555715       kids_pets  111.84      M  29.0393  -95.4401  29.661049   \n",
       "555716       kids_pets   86.88      F  46.1966 -118.9017  46.658340   \n",
       "555717          travel    7.99      M  44.6255 -116.4493  44.470525   \n",
       "555718   entertainment   38.13      M  35.6665  -97.4798  36.210097   \n",
       "\n",
       "        merch_long  is_fraud  age  trans_time_hour  \n",
       "0       -82.048315         0   31                0  \n",
       "1      -118.186462         0   41                0  \n",
       "2      -112.154481         0   57                0  \n",
       "3      -112.561071         0   52                0  \n",
       "4       -78.632459         0   33                0  \n",
       "...            ...       ...  ...              ...  \n",
       "555714  -91.333331         0   54               23  \n",
       "555715  -96.186633         0   21               23  \n",
       "555716 -119.715054         0   39               23  \n",
       "555717 -117.080888         0   55               23  \n",
       "555718  -97.036372         0   27               23  \n",
       "\n",
       "[1852394 rows x 10 columns]"
      ]
     },
     "execution_count": 38,
     "metadata": {},
     "output_type": "execute_result"
    }
   ],
   "source": [
    "data"
   ]
  },
  {
   "cell_type": "code",
   "execution_count": 39,
   "id": "011221f9",
   "metadata": {},
   "outputs": [
    {
     "name": "stderr",
     "output_type": "stream",
     "text": [
      "C:\\Users\\mural\\AppData\\Local\\Temp\\ipykernel_3940\\2920389395.py:1: FutureWarning: The default value of numeric_only in DataFrame.corr is deprecated. In a future version, it will default to False. Select only valid columns or specify the value of numeric_only to silence this warning.\n",
      "  sns.heatmap(data.corr())\n"
     ]
    },
    {
     "data": {
      "image/png": "[encoded data removed]",
      "text/plain": [
       "<Figure size 640x480 with 2 Axes>"
      ]
     },
     "metadata": {},
     "output_type": "display_data"
    }
   ],
   "source": [
    "sns.heatmap(data.corr())\n",
    "plt.show()"
   ]
  },
  {
   "cell_type": "markdown",
   "id": "8f5cb4ea",
   "metadata": {},
   "source": [
    "As we can see there is some sort of correlation between location coordinates i.e latitude and longitude. Other than that there is no correlation between different features"
   ]
  },
  {
   "cell_type": "code",
   "execution_count": 40,
   "id": "4dccd3eb",
   "metadata": {},
   "outputs": [
    {
     "data": {
      "text/plain": [
       "Index(['category', 'amt', 'gender', 'lat', 'long', 'merch_lat', 'merch_long',\n",
       "       'is_fraud', 'age', 'trans_time_hour'],\n",
       "      dtype='object')"
      ]
     },
     "execution_count": 40,
     "metadata": {},
     "output_type": "execute_result"
    }
   ],
   "source": [
    "data.columns"
   ]
  },
  {
   "cell_type": "code",
   "execution_count": 41,
   "id": "678ffeea",
   "metadata": {},
   "outputs": [],
   "source": [
    "new_name={'category':'Shopping_Category', 'amt':'Amount', 'lat':'user_latitude', 'long':'user_longitude', 'merch_lat':'merchant_latitude','merch_long':'merchant_longitude', 'is_fraud':'Fraud_Status','trans_time_hour':'Transaction_time_in_hour'}"
   ]
  },
  {
   "cell_type": "code",
   "execution_count": null,
   "id": "c0a9c42e",
   "metadata": {},
   "outputs": [],
   "source": []
  },
  {
   "cell_type": "code",
   "execution_count": 42,
   "id": "17e02083",
   "metadata": {},
   "outputs": [],
   "source": [
    "data.rename(columns=new_name, inplace=True) "
   ]
  },
  {
   "cell_type": "code",
   "execution_count": 43,
   "id": "c55fd6b7",
   "metadata": {},
   "outputs": [
    {
     "data": {
      "text/plain": [
       "Index(['Shopping_Category', 'Amount', 'gender', 'user_latitude',\n",
       "       'user_longitude', 'merchant_latitude', 'merchant_longitude',\n",
       "       'Fraud_Status', 'age', 'Transaction_time_in_hour'],\n",
       "      dtype='object')"
      ]
     },
     "execution_count": 43,
     "metadata": {},
     "output_type": "execute_result"
    }
   ],
   "source": [
    "data.columns"
   ]
  },
  {
   "cell_type": "code",
   "execution_count": 44,
   "id": "b27dd7da",
   "metadata": {},
   "outputs": [],
   "source": [
    "y=data['Fraud_Status']\n",
    "data.drop(columns=['Fraud_Status'], inplace=True)\n",
    "X=data"
   ]
  },
  {
   "cell_type": "code",
   "execution_count": 45,
   "id": "3ec3b00e",
   "metadata": {},
   "outputs": [],
   "source": [
    "from sklearn.model_selection import train_test_split\n",
    "\n",
    "X_train, X_test, y_train, y_test= train_test_split(X, y, test_size=0.3, random_state=42)"
   ]
  },
  {
   "cell_type": "code",
   "execution_count": null,
   "id": "5dbe380c",
   "metadata": {},
   "outputs": [],
   "source": []
  },
  {
   "cell_type": "markdown",
   "id": "8d6358ca",
   "metadata": {},
   "source": [
    "## 3. Handling Imbalanced Data"
   ]
  },
  {
   "cell_type": "code",
   "execution_count": 46,
   "id": "5c8d3a2d",
   "metadata": {},
   "outputs": [
    {
     "name": "stdout",
     "output_type": "stream",
     "text": [
      "class 0: (1289962, 10)\n",
      "class 1: (6713, 10)\n"
     ]
    }
   ],
   "source": [
    "# Upsampling\n",
    "X_y_train = pd.concat([X_train, y_train], axis=1)\n",
    "\n",
    "# class count\n",
    "class_count_0, class_count_1 = X_y_train['Fraud_Status'].value_counts()\n",
    "\n",
    "# Separate class\n",
    "class_0 = X_y_train[X_y_train['Fraud_Status'] == 0]\n",
    "class_1 = X_y_train[X_y_train['Fraud_Status'] == 1]\n",
    "print('class 0:', class_0.shape)\n",
    "print('class 1:', class_1.shape)"
   ]
  },
  {
   "cell_type": "code",
   "execution_count": null,
   "id": "8e0cbe53",
   "metadata": {},
   "outputs": [],
   "source": [
    "class_1_over = class_1.sample(class_count_0, replace=True)\n",
    "\n",
    "test_over = pd.concat([class_1_over, class_0], axis=0)\n",
    "\n",
    "print(\"total class of 1 and 0:\",test_over['Fraud_Status'].value_counts())\n",
    "test_over['Fraud_Status'].value_counts().plot(kind='bar', title='count (target)')"
   ]
  },
  {
   "cell_type": "code",
   "execution_count": null,
   "id": "0ac93fe2",
   "metadata": {},
   "outputs": [],
   "source": [
    "X_y_train_balanced=test_over\n",
    "y_train_os_bal=X_y_train_balanced['Fraud_Status']\n",
    "X_train_os_balanced=X_y_train_balanced.drop(columns=['Fraud_Status'])\n",
    "\n",
    "#X_train_os_balanced, y_train_os_bal"
   ]
  },
  {
   "cell_type": "code",
   "execution_count": null,
   "id": "37c87cc3",
   "metadata": {},
   "outputs": [],
   "source": [
    "# Using Imblearn Library\n",
    "import imblearn\n",
    "from imblearn.over_sampling import RandomOverSampler\n",
    "from collections import Counter\n",
    "\n",
    "ros = RandomOverSampler(random_state=42)# fit predictor and target variable\n",
    "X_train_ros, y_train_ros = ros.fit_resample(X_train, y_train)\n",
    "\n",
    "print('original dataset shape:', Counter(y_train))\n",
    "print('Resample dataset shape', Counter(y_train_ros))\n",
    "#X_train_ros, y_train_ros  "
   ]
  },
  {
   "cell_type": "code",
   "execution_count": null,
   "id": "6b292b6d",
   "metadata": {},
   "outputs": [],
   "source": [
    "from imblearn.over_sampling import SMOTENC\n",
    "\n",
    "smote_nc = SMOTENC(categorical_features=[0, 2], random_state=42)\n",
    "\n",
    "# fit predictor and target variable\n",
    "X_train_smote, y_train_smote = smote_nc.fit_resample(X_train, y_train)\n",
    "\n",
    "print('Original dataset shape', Counter(y_train))\n",
    "print('Resample dataset shape', Counter(y_train_smote))"
   ]
  },
  {
   "cell_type": "code",
   "execution_count": null,
   "id": "c11e4cd0",
   "metadata": {},
   "outputs": [],
   "source": [
    "\n",
    "y_train.value_counts()"
   ]
  },
  {
   "cell_type": "code",
   "execution_count": null,
   "id": "157bfeac",
   "metadata": {},
   "outputs": [],
   "source": [
    "# X_train_smote, y_train_smote   Train Data from Smote\n",
    "\n",
    "# X_train_ros, y_train_ros        Train Data from Random Over Sampler\n",
    "\n",
    "# X_train_os_balanced, y_train_os_balanced  Train Data from Upsampling "
   ]
  },
  {
   "cell_type": "code",
   "execution_count": null,
   "id": "0a74b969",
   "metadata": {},
   "outputs": [],
   "source": [
    "data_set=((X_train_smote, y_train_smote ), (X_train_ros, y_train_ros ), (X_train_os_balanced, y_train_os_bal) )\n",
    "# Set of data from different sampling methods"
   ]
  },
  {
   "cell_type": "code",
   "execution_count": null,
   "id": "d9520424",
   "metadata": {},
   "outputs": [],
   "source": [
    "X_train"
   ]
  },
  {
   "cell_type": "code",
   "execution_count": null,
   "id": "ed68bb1f",
   "metadata": {},
   "outputs": [],
   "source": [
    "X_train_smote.columns"
   ]
  },
  {
   "cell_type": "markdown",
   "id": "049d4b71",
   "metadata": {},
   "source": [
    "## 4.Transformation Pipeline"
   ]
  },
  {
   "cell_type": "code",
   "execution_count": null,
   "id": "3bd66d13",
   "metadata": {},
   "outputs": [],
   "source": [
    "pre_process_pipe= ColumnTransformer(transformers=[\n",
    "    ('col_tnf',OneHotEncoder(sparse_output=False,drop='first',handle_unknown='ignore'),['Shopping_Category', 'gender']),\n",
    "    ('log_transform', FunctionTransformer(np.log1p, validate=False),['Amount','age','Transaction_time_in_hour']),\n",
    "    ('standard_scale', StandardScaler(),[ 'Amount', 'user_latitude',\n",
    "       'user_longitude', 'merchant_latitude', 'merchant_longitude', 'age','Transaction_time_in_hour'])\n",
    "],remainder='passthrough')"
   ]
  },
  {
   "cell_type": "markdown",
   "id": "5f82377f",
   "metadata": {},
   "source": [
    "### Things So Far\n",
    "\n",
    "1. We performed different EDA analysis and feature engineering\n",
    "2. We added new features which removes redudant feature and translate detail to a single feature \n",
    "   ex: We added transaction time in hour to understand at what time of day fraud happens more. We also checked is there any pattern of fraud based on one's job, gender location. We also tried to correlate population in the city with that of fraud happend\n",
    "3. We dropped unnecessary columns or columns where details can be captured via other columns\n",
    "4. We handled imbalance data through SMOTE, upsampling and random-oversampling\n",
    "5. We built transformation pipeline to perform One-hot encoding. Since data had some sort of skewness, we will perform log transformation and then performed Standard Scaler."
   ]
  },
  {
   "cell_type": "markdown",
   "id": "865a5d2c",
   "metadata": {},
   "source": [
    "## 5.Model"
   ]
  },
  {
   "cell_type": "markdown",
   "id": "485e1378",
   "metadata": {},
   "source": [
    "### Logistic Regression"
   ]
  },
  {
   "cell_type": "code",
   "execution_count": null,
   "id": "30fb0bbf",
   "metadata": {},
   "outputs": [],
   "source": [
    "from sklearn.linear_model import LogisticRegression\n",
    "logreg = LogisticRegression(solver='saga')\n",
    "\n",
    "\n",
    "logreg_train_confusion_matrix=[]\n",
    "logreg_f1_score_list=[]\n",
    "logreg_average_precision_score_list=[]\n",
    "logreg_precesion_score_list=[]\n",
    "logreg_aoc_score_list=[]\n",
    "logreg_recall_score_list=[]\n",
    "\n",
    "logreg_clf_pipe = Pipeline([\n",
    "    ('pre_process',pre_process_pipe),\n",
    "    ('logreg',logreg)])\n",
    "\n",
    "for x_train,y_train in (data_set):\n",
    "    \n",
    "    \n",
    "    logreg_clf_pipe.fit(x_train, y_train)\n",
    "    y_pred = logreg_clf_pipe.predict(x_train)\n",
    "    \n",
    "    \n",
    "    logreg_train_confusion_matrix.append(confusion_matrix(y_train, y_pred))\n",
    "    logreg_f1_score_list.append(f1_score(y_train, y_pred))\n",
    "    logreg_average_precision_score_list.append(average_precision_score(y_train, y_pred))\n",
    "    logreg_precesion_score_list.append(precision_score(y_train, y_pred))\n",
    "    logreg_aoc_score_list.append(roc_auc_score(y_train, y_pred))\n",
    "    logreg_recall_score_list.append(recall_score(y_train, y_pred))\n",
    "    \n",
    "    \n"
   ]
  },
  {
   "cell_type": "code",
   "execution_count": null,
   "id": "50d1662d",
   "metadata": {},
   "outputs": [],
   "source": [
    "logreg_train_confusion_matrix"
   ]
  },
  {
   "cell_type": "code",
   "execution_count": null,
   "id": "8bdebe22",
   "metadata": {},
   "outputs": [],
   "source": [
    "logreg_f1_score_list"
   ]
  },
  {
   "cell_type": "code",
   "execution_count": null,
   "id": "cfac58d8",
   "metadata": {},
   "outputs": [],
   "source": [
    "logreg_average_precision_score_list"
   ]
  },
  {
   "cell_type": "code",
   "execution_count": null,
   "id": "65352b2e",
   "metadata": {},
   "outputs": [],
   "source": [
    "logreg_aoc_score_list"
   ]
  },
  {
   "cell_type": "code",
   "execution_count": null,
   "id": "ee1676d3",
   "metadata": {},
   "outputs": [],
   "source": [
    "logreg_recall_score_list"
   ]
  },
  {
   "cell_type": "markdown",
   "id": "83d1578a",
   "metadata": {},
   "source": [
    "We can see that "
   ]
  },
  {
   "cell_type": "markdown",
   "id": "4ee0d74d",
   "metadata": {},
   "source": [
    "### Random Forest Classifier"
   ]
  },
  {
   "cell_type": "code",
   "execution_count": null,
   "id": "163c8595",
   "metadata": {},
   "outputs": [],
   "source": [
    "from sklearn.ensemble import RandomForestClassifier\n",
    "\n",
    "from sklearn.metrics import average_precision_score\n",
    "rfclf = RandomForestClassifier(max_depth=5, random_state=42)\n",
    "\n",
    "rfclf_train_confusion_matrix=[]\n",
    "rfclf_f1_score_list=[]\n",
    "rfclf_average_precision_score_list=[]\n",
    "rfclf_precesion_score_list=[]\n",
    "rfclf_aoc_score_list=[]\n",
    "rfclf_recall_score_list=[]\n",
    "\n",
    "rf_clf_pipe = Pipeline([\n",
    "    ('pre_process',pre_process_pipe),\n",
    "    ('clf',rfclf)])\n",
    "\n",
    "for x_train,y_train in (data_set):\n",
    "    \n",
    "    \n",
    "    rf_clf_pipe.fit(x_train, y_train)\n",
    "    y_pred = rf_clf_pipe.predict(x_train)\n",
    "    \n",
    "    \n",
    "    \n",
    "    rfclf_train_confusion_matrix.append(confusion_matrix(y_train, y_pred))\n",
    "    rfclf_f1_score_list.append(f1_score(y_train, y_pred))\n",
    "    rfclf_average_precision_score_list.append(average_precision_score(y_train, y_pred))\n",
    "    rfclf_precesion_score_list.append(precision_score(y_train, y_pred))\n",
    "    rfclf_aoc_score_list.append(roc_auc_score(y_train, y_pred))\n",
    "    rfclf_recall_score_list.append(recall_score(y_train, y_pred))"
   ]
  },
  {
   "cell_type": "code",
   "execution_count": null,
   "id": "6d9f2349",
   "metadata": {},
   "outputs": [],
   "source": [
    "rfclf_train_confusion_matrix"
   ]
  },
  {
   "cell_type": "code",
   "execution_count": null,
   "id": "4c5eead0",
   "metadata": {},
   "outputs": [],
   "source": [
    "rfclf_f1_score_list"
   ]
  },
  {
   "cell_type": "code",
   "execution_count": null,
   "id": "a1c00323",
   "metadata": {},
   "outputs": [],
   "source": [
    "rfclf_average_precision_score_list"
   ]
  },
  {
   "cell_type": "code",
   "execution_count": null,
   "id": "8abc9cc0",
   "metadata": {},
   "outputs": [],
   "source": [
    "rfclf_precesion_score_list"
   ]
  },
  {
   "cell_type": "code",
   "execution_count": null,
   "id": "0c97dd6b",
   "metadata": {},
   "outputs": [],
   "source": [
    "logreg_recall_score_list"
   ]
  },
  {
   "cell_type": "markdown",
   "id": "feb42bb6",
   "metadata": {},
   "source": [
    "## Grad Boost"
   ]
  },
  {
   "cell_type": "code",
   "execution_count": null,
   "id": "c14d2556",
   "metadata": {},
   "outputs": [],
   "source": [
    "from sklearn.ensemble import GradientBoostingClassifier\n",
    "\n",
    "gbclf = GradientBoostingClassifier(n_estimators=100, learning_rate=0.7,max_depth=2, random_state=0)\n",
    "\n",
    "gbclf_train_confusion_matrix=[]\n",
    "gbclf_f1_score_list=[]\n",
    "gbclf_average_precision_score_list=[]\n",
    "gbclf_precesion_score_list=[]\n",
    "gbclf_aoc_score_list=[]\n",
    "gbclf_recall_score_list=[]\n",
    "\n",
    "gb_clf_pipe = Pipeline([\n",
    "    ('pre_process',pre_process_pipe),\n",
    "    ('clf',gbclf)])\n",
    "\n",
    "for x_train,y_train in (data_set):\n",
    "    \n",
    "    \n",
    "    gb_clf_pipe.fit(x_train, y_train)\n",
    "    y_pred = gb_clf_pipe.predict(x_train)\n",
    "    \n",
    "    \n",
    "    \n",
    "    gbclf_train_confusion_matrix.append(confusion_matrix(y_train, y_pred))\n",
    "    gbclf_f1_score_list.append(f1_score(y_train, y_pred))\n",
    "    gbclf_average_precision_score_list.append(average_precision_score(y_train, y_pred))\n",
    "    gbclf_precesion_score_list.append(precision_score(y_train, y_pred))\n",
    "    gbclf_aoc_score_list.append(roc_auc_score(y_train, y_pred))\n",
    "    gbclf_recall_score_list.append(recall_score(y_train, y_pred))\n"
   ]
  },
  {
   "cell_type": "code",
   "execution_count": null,
   "id": "2ef21149",
   "metadata": {},
   "outputs": [],
   "source": [
    "gbclf_train_confusion_matrix"
   ]
  },
  {
   "cell_type": "code",
   "execution_count": null,
   "id": "69d02172",
   "metadata": {},
   "outputs": [],
   "source": [
    "gbclf_average_precision_score_list"
   ]
  },
  {
   "cell_type": "code",
   "execution_count": null,
   "id": "5a5c11b3",
   "metadata": {},
   "outputs": [],
   "source": [
    "gbclf_f1_score_list"
   ]
  },
  {
   "cell_type": "code",
   "execution_count": null,
   "id": "fec8c2ff",
   "metadata": {},
   "outputs": [],
   "source": [
    "gbclf_aoc_score_list"
   ]
  },
  {
   "cell_type": "code",
   "execution_count": null,
   "id": "a3e31a7f",
   "metadata": {},
   "outputs": [],
   "source": [
    "gbclf_recall_score_list"
   ]
  },
  {
   "cell_type": "code",
   "execution_count": null,
   "id": "f3d6badf",
   "metadata": {},
   "outputs": [],
   "source": [
    "from sklearn.ensemble import GradientBoostingClassifier\n",
    "\n",
    "gbclf = GradientBoostingClassifier(n_estimators=500, learning_rate=0.47,max_depth=8, random_state=1)\n",
    "\n",
    "gbclf_train_confusion_matrix=[]\n",
    "gbclf_f1_score_list=[]\n",
    "gbclf_average_precision_score_list=[]\n",
    "gbclf_precesion_score_list=[]\n",
    "gbclf_aoc_score_list=[]\n",
    "gbclf_recall_score_list=[]\n",
    "\n",
    "gb_clf_pipe2 = Pipeline([\n",
    "    ('pre_process',pre_process_pipe),\n",
    "    ('clf',gbclf)])\n",
    "\n",
    "\n",
    "\n",
    "gb_clf_pipe2.fit(X_train_smote, y_train_smote)\n",
    "y_pred = gb_clf_pipe2.predict(x_train)\n",
    "\n",
    "\n",
    "\n",
    "gbclf_train_confusion_matrix.append(confusion_matrix(y_train, y_pred))\n",
    "gbclf_f1_score_list.append(f1_score(y_train, y_pred))\n",
    "gbclf_average_precision_score_list.append(average_precision_score(y_train, y_pred))\n",
    "gbclf_precesion_score_list.append(precision_score(y_train, y_pred))\n",
    "gbclf_aoc_score_list.append(roc_auc_score(y_train, y_pred))\n",
    "gbclf_recall_score_list.append(recall_score(y_train, y_pred))\n"
   ]
  },
  {
   "cell_type": "code",
   "execution_count": null,
   "id": "319f9323",
   "metadata": {},
   "outputs": [],
   "source": [
    "y_pred_test =gb_clf_pipe2.predict(X_test)\n",
    "\n"
   ]
  },
  {
   "cell_type": "code",
   "execution_count": null,
   "id": "aa03a8da",
   "metadata": {},
   "outputs": [],
   "source": [
    "print(\"Confusion Matrix\",confusion_matrix(y_test, y_pred_test))\n",
    "print('-'*25)\n",
    "print('Recall Score',recall_score(y_test, y_pred_test))\n",
    "print('-'*25)\n",
    "print('AOC Score', roc_auc_score(y_test, y_pred_test))\n",
    "print('-'*25)\n",
    "print('F1 Score',f1_score(y_test, y_pred_test))\n",
    "print('-'*25)\n",
    "print(\"Precision Score\",precision_score(y_test, y_pred_test))\n",
    "print('-'*25)\n",
    "print(\"Average Precision Score\",average_precision_score(y_test, y_pred_test))"
   ]
  },
  {
   "cell_type": "markdown",
   "id": "1a698164",
   "metadata": {},
   "source": [
    "After looking into train results, we will consider Data generated by SMOTE and Grad Boost Algorithm. We will perform Hyperparameter tuning"
   ]
  },
  {
   "cell_type": "markdown",
   "id": "02604a05",
   "metadata": {},
   "source": [
    "## Hyperparameter Tuning"
   ]
  },
  {
   "cell_type": "code",
   "execution_count": null,
   "id": "ed014ba4",
   "metadata": {},
   "outputs": [],
   "source": [
    "from scipy.stats import uniform, randint\n",
    "from sklearn.ensemble import GradientBoostingClassifier\n",
    "\n",
    "param_dist = {\n",
    "    'clf__n_estimators': randint(100,300),  \n",
    "    'clf__learning_rate': uniform(0.1, 0.7),  \n",
    "    'clf__max_depth': randint(3, 10),  \n",
    "    'clf__min_samples_split': randint(2, 10), \n",
    "    'clf__min_samples_leaf': randint(1, 5),  \n",
    "    'clf__subsample': uniform(0.5, 1.0),  \n",
    "}\n",
    "\n",
    "param_dist1 = {\n",
    "    \n",
    "    'clf__learning_rate': uniform(0.1, 0.7),  \n",
    "    'clf__max_depth': randint(3, 10),  \n",
    "    'clf__min_samples_split': randint(2, 10), \n",
    "    'clf__min_samples_leaf': randint(1, 5), \n",
    "}\n",
    "\n",
    "gbclf = GradientBoostingClassifier()\n",
    "\n",
    "gb_clf_pipe = Pipeline([\n",
    "    ('preprocess',pre_process_pipe),\n",
    "    ('clf',gbclf)])\n",
    "\n",
    "\n",
    "random_search = RandomizedSearchCV(gb_clf_pipe, param_distributions=param_dist1, n_iter=4, cv=4)\n",
    "\n",
    "\n",
    "random_search.fit(X_train_smote, y_train_smote)\n",
    "\n"
   ]
  },
  {
   "cell_type": "code",
   "execution_count": null,
   "id": "5db698fa",
   "metadata": {},
   "outputs": [],
   "source": [
    "\n",
    "best_params = random_search.best_params_\n",
    "print(\"Best Hyperparameters:\", best_params)"
   ]
  },
  {
   "cell_type": "code",
   "execution_count": null,
   "id": "68f94bd8",
   "metadata": {},
   "outputs": [],
   "source": [
    "\n",
    "\n",
    "best_model = GradientBoostingClassifier(max_depth=6)  \n",
    "\n",
    "\n",
    "best_gb_clf_pipe = Pipeline([\n",
    "    ('preprocess',pre_process_pipe),\n",
    "    ('bestclf',best_model)])\n",
    "\n",
    "best_gb_clf_pipe.fit(X_train_smote, y_train_smote)\n",
    "y_pred =best_gb_clf_pipe.predict(X_test)"
   ]
  },
  {
   "cell_type": "code",
   "execution_count": null,
   "id": "4d30c6c0",
   "metadata": {},
   "outputs": [],
   "source": [
    "confusion_matrix(y_test, y_pred)\n",
    "\n",
    "\n",
    "\n",
    "\n"
   ]
  },
  {
   "cell_type": "code",
   "execution_count": null,
   "id": "4ef72c34",
   "metadata": {},
   "outputs": [],
   "source": [
    "recall_score(y_test, y_pred)"
   ]
  },
  {
   "cell_type": "code",
   "execution_count": null,
   "id": "64575825",
   "metadata": {},
   "outputs": [],
   "source": [
    "roc_auc_score(y_test, y_pred)"
   ]
  },
  {
   "cell_type": "code",
   "execution_count": null,
   "id": "4c66e6e8",
   "metadata": {},
   "outputs": [],
   "source": [
    "precision_score(y_test, y_pred)"
   ]
  },
  {
   "cell_type": "code",
   "execution_count": null,
   "id": "49543fec",
   "metadata": {},
   "outputs": [],
   "source": [
    "average_precision_score(y_test, y_pred)"
   ]
  },
  {
   "cell_type": "code",
   "execution_count": null,
   "id": "c4efa6fa",
   "metadata": {},
   "outputs": [],
   "source": [
    "f1_score(y_test, y_pred)"
   ]
  },
  {
   "cell_type": "code",
   "execution_count": null,
   "id": "97df21d3",
   "metadata": {},
   "outputs": [],
   "source": []
  },
  {
   "cell_type": "markdown",
   "id": "cdf4bd41",
   "metadata": {},
   "source": [
    "\n",
    "Due to computational resource constraints, I had to simulate best model in Colab. \n",
    "I found GradientBoosting to perform better than all othe models. SMOTE dataset performed slightly better than other datasets. So I finalized GradientBoosting Classifier with n_estimator=300, learning_rate=0.2, max_depth=12, min_samples_split=4.  \n",
    "\n",
    "Model Performance  \n",
    "--------------------------------\n",
    "I obtained an F1 score of 0.78 for test dataset. \n",
    "The model had better recall than precision. So we can further improvise model by increasing precision. \n",
    "The ROC AUC Score was around 0.94 for test dataset.  The model identified false positives more than false negatives. So from security perspective it is good to have more  precision(i.e reducing count of false negatives) because even if a transaction is not fradulent we can cross verify by a manual confirmation with the customer via human assist.  \n",
    "By increasing n_estimators I think we will get better result. But due to timeout and error faced in colab I couldn't go beyond 300 estimators.( Since train dataset was huge it was taking more time)."
   ]
  },
  {
   "cell_type": "code",
   "execution_count": null,
   "id": "feed9b5f",
   "metadata": {},
   "outputs": [],
   "source": []
  },
  {
   "cell_type": "code",
   "execution_count": null,
   "id": "cff8b8b6",
   "metadata": {},
   "outputs": [],
   "source": []
  },
  {
   "cell_type": "code",
   "execution_count": null,
   "id": "ee6efff2",
   "metadata": {},
   "outputs": [],
   "source": [
    "import pickle\n",
    "\n",
    "pickle.dump(X_train_smote,open('X_train_smote.pkl','wb'))\n",
    "pickle.dump(rf_clf_pipe_smote,open('rf_clf_pipe_smote.pkl','wb'))"
   ]
  },
  {
   "cell_type": "code",
   "execution_count": null,
   "id": "e1a38064",
   "metadata": {},
   "outputs": [],
   "source": [
    "X_train_smote.to_csv('X_train_smote.csv',index=None)"
   ]
  },
  {
   "cell_type": "code",
   "execution_count": null,
   "id": "c3e2ff0d",
   "metadata": {},
   "outputs": [],
   "source": [
    "X_test.to_csv('X_test.csv',index=None)   #y_test"
   ]
  },
  {
   "cell_type": "code",
   "execution_count": null,
   "id": "a819fa99",
   "metadata": {},
   "outputs": [],
   "source": [
    "y_test.to_csv('y_test.csv',index=None)"
   ]
  },
  {
   "cell_type": "code",
   "execution_count": null,
   "id": "cd999347",
   "metadata": {},
   "outputs": [],
   "source": [
    " y_train_smote.to_csv('y_train_smote.csv',index=None)"
   ]
  },
  {
   "cell_type": "code",
   "execution_count": null,
   "id": "63bb283d",
   "metadata": {},
   "outputs": [],
   "source": [
    "train_confusion_matrix"
   ]
  },
  {
   "cell_type": "code",
   "execution_count": null,
   "id": "0eb7939a",
   "metadata": {},
   "outputs": [],
   "source": [
    "f1_score_list"
   ]
  },
  {
   "cell_type": "code",
   "execution_count": null,
   "id": "8dc74e36",
   "metadata": {},
   "outputs": [],
   "source": [
    "average_precision_score_list"
   ]
  },
  {
   "cell_type": "code",
   "execution_count": null,
   "id": "9f931bea",
   "metadata": {},
   "outputs": [],
   "source": [
    "pipe = Pipeline([\n",
    "    ('ohe',ohe),\n",
    "    ('scaling',scaling)])\n",
    "\n",
    "pipe.fit_transform(x_train).shape"
   ]
  },
  {
   "cell_type": "code",
   "execution_count": null,
   "id": "a680d113",
   "metadata": {},
   "outputs": [],
   "source": []
  },
  {
   "cell_type": "code",
   "execution_count": null,
   "id": "bb13b420",
   "metadata": {},
   "outputs": [],
   "source": [
    "y_train=data_set[1][1]"
   ]
  },
  {
   "cell_type": "code",
   "execution_count": null,
   "id": "a700c06b",
   "metadata": {},
   "outputs": [],
   "source": [
    "rf_clf_pipe = Pipeline([\n",
    "    ('ohe',ohe),\n",
    "    ('scaling',scaling),\n",
    "    ('clf',clf)])"
   ]
  },
  {
   "cell_type": "code",
   "execution_count": null,
   "id": "e3ed53e1",
   "metadata": {},
   "outputs": [],
   "source": [
    "rf_clf_pipe.fit(x_train, y_train)\n",
    "y_pred = rf_clf_pipe.predict(x_train)"
   ]
  },
  {
   "cell_type": "code",
   "execution_count": null,
   "id": "4fcfb829",
   "metadata": {},
   "outputs": [],
   "source": [
    "y_pred"
   ]
  },
  {
   "cell_type": "code",
   "execution_count": null,
   "id": "3f716eda",
   "metadata": {},
   "outputs": [],
   "source": [
    "x_train,y_train=data_set[1]"
   ]
  },
  {
   "cell_type": "code",
   "execution_count": null,
   "id": "c429ae03",
   "metadata": {},
   "outputs": [],
   "source": [
    "x_train"
   ]
  },
  {
   "cell_type": "code",
   "execution_count": null,
   "id": "d5ff6925",
   "metadata": {},
   "outputs": [],
   "source": []
  },
  {
   "cell_type": "code",
   "execution_count": null,
   "id": "30de3c24",
   "metadata": {},
   "outputs": [],
   "source": [
    "import pickle\n",
    "\n",
    "pickle.dump(dftr,open('dftr.pkl','wb'))\n",
    "pickle.dump(rf_reg_pipe,open('rf_reg_pipe.pkl','wb'))"
   ]
  }
 ],
 "metadata": {
  "kernelspec": {
   "display_name": "Python 3 (ipykernel)",
   "language": "python",
   "name": "python3"
  },
  "language_info": {
   "codemirror_mode": {
    "name": "ipython",
    "version": 3
   },
   "file_extension": ".py",
   "mimetype": "text/x-python",
   "name": "python",
   "nbconvert_exporter": "python",
   "pygments_lexer": "ipython3",
   "version": "3.11.4"
  }
 },
 "nbformat": 4,
 "nbformat_minor": 5
}
