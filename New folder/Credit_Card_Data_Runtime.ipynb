{
  "cells": [
    {
      "cell_type": "code",
      "execution_count": 1,
      "metadata": {
        "id": "gmxIsEjwc93j"
      },
      "outputs": [],
      "source": [
        "import numpy as np\n",
        "import scipy as scp\n",
        "import pandas as pd\n",
        "from matplotlib import pyplot as plt\n",
        "import seaborn as sns\n",
        "import plotly.express as px\n",
        "\n",
        "\n",
        "from sklearn.model_selection import train_test_split\n",
        "from sklearn.preprocessing import MinMaxScaler,StandardScaler\n",
        "from sklearn.pipeline import Pipeline\n",
        "from sklearn.compose import ColumnTransformer\n",
        "from sklearn.preprocessing import LabelEncoder,OneHotEncoder\n",
        "from sklearn import metrics\n",
        "from sklearn.model_selection import RandomizedSearchCV\n",
        "from sklearn.linear_model import LinearRegression,Lasso,Ridge\n",
        "from sklearn.tree import DecisionTreeRegressor\n",
        "from sklearn.ensemble import RandomForestRegressor,GradientBoostingRegressor\n",
        "from xgboost import XGBRegressor\n",
        "from sklearn.svm import SVR\n",
        "from sklearn.neighbors import KNeighborsRegressor\n",
        "from sklearn import tree\n",
        "from sklearn.preprocessing import StandardScaler\n",
        "from sklearn.preprocessing import FunctionTransformer\n",
        "from imblearn.pipeline import Pipeline\n",
        "from sklearn import metrics\n",
        "from sklearn.metrics import average_precision_score\n",
        "from sklearn.metrics import accuracy_score, auc,f1_score, precision_score, recall_score, confusion_matrix, roc_auc_score, roc_curve, recall_score"
      ]
    },
    {
      "cell_type": "code",
      "execution_count": 1,
      "metadata": {
        "id": "DgHwEkugePVV"
      },
      "outputs": [],
      "source": []
    },
    {
      "cell_type": "code",
      "execution_count": 2,
      "metadata": {
        "id": "HPenA04OdIWg"
      },
      "outputs": [],
      "source": [
        "X_train_smote=pd.read_csv(\"/content/drive/MyDrive/CC Fraud Project/X_train_smote.csv\")\n"
      ]
    },
    {
      "cell_type": "code",
      "execution_count": 3,
      "metadata": {
        "id": "jvgdr233dy_x"
      },
      "outputs": [],
      "source": [
        "y_train_smote=pd.read_csv(\"/content/drive/MyDrive/CC Fraud Project/y_train_smote.csv\")"
      ]
    },
    {
      "cell_type": "code",
      "execution_count": 4,
      "metadata": {
        "id": "kQIBVhltdzCF"
      },
      "outputs": [],
      "source": [
        "y_test=pd.read_csv(\"/content/drive/MyDrive/CC Fraud Project/y_test.csv\")"
      ]
    },
    {
      "cell_type": "code",
      "execution_count": 16,
      "metadata": {
        "id": "H09vE_6EdzE7"
      },
      "outputs": [],
      "source": [
        "X_test=pd.read_csv(\"/content/drive/MyDrive/CC Fraud Project/X_test.csv\")"
      ]
    },
    {
      "cell_type": "code",
      "execution_count": 6,
      "metadata": {
        "id": "yITAmu3ddIZT"
      },
      "outputs": [],
      "source": [
        "pre_process_pipe= ColumnTransformer(transformers=[\n",
        "    ('col_tnf',OneHotEncoder(sparse_output=False,drop='first',handle_unknown='ignore'),['Shopping_Category', 'gender']),\n",
        "    ('log_transform', FunctionTransformer(np.log1p, validate=False),['Amount','age','Transaction_time_in_hour']),\n",
        "    ('standard_scale', StandardScaler(),[ 'Amount', 'user_latitude',\n",
        "       'user_longitude', 'merchant_latitude', 'merchant_longitude', 'age','Transaction_time_in_hour'])\n",
        "],remainder='passthrough')"
      ]
    },
    {
      "cell_type": "code",
      "execution_count": 7,
      "metadata": {
        "id": "CuwysgUqdIdA"
      },
      "outputs": [],
      "source": [
        "from sklearn.ensemble import GradientBoostingClassifier\n",
        "\n",
        "gbclf = GradientBoostingClassifier(n_estimators=300, learning_rate=0.2,max_depth=12,min_samples_split=4, random_state=1)\n",
        "\n",
        "gbclf_train_confusion_matrix=[]\n",
        "gbclf_f1_score_list=[]\n",
        "gbclf_average_precision_score_list=[]\n",
        "gbclf_precesion_score_list=[]\n",
        "gbclf_aoc_score_list=[]\n",
        "gbclf_recall_score_list=[]\n",
        "\n",
        "gb_clf_pipe2 = Pipeline([\n",
        "    ('pre_process',pre_process_pipe),\n",
        "    ('clf',gbclf)])\n",
        "\n",
        "\n",
        "\n",
        "gb_clf_pipe2.fit(X_train_smote, y_train_smote.values.ravel())\n",
        "y_pred = gb_clf_pipe2.predict(X_train_smote)\n",
        "\n",
        "\n",
        "\n"
      ]
    },
    {
      "cell_type": "code",
      "execution_count": 18,
      "metadata": {
        "id": "4v1ec6gezTlU"
      },
      "outputs": [],
      "source": [
        "gbclf_train_confusion_matrix.append(confusion_matrix(y_train_smote.values.ravel(), y_pred))\n",
        "gbclf_f1_score_list.append(f1_score(y_train_smote.values.ravel(), y_pred))\n",
        "gbclf_average_precision_score_list.append(average_precision_score(y_train_smote.values.ravel(), y_pred))\n",
        "gbclf_precesion_score_list.append(precision_score(y_train_smote.values.ravel(), y_pred))\n",
        "gbclf_aoc_score_list.append(roc_auc_score(y_train_smote.values.ravel(), y_pred))\n",
        "gbclf_recall_score_list.append(recall_score(y_train_smote.values.ravel(), y_pred))"
      ]
    },
    {
      "cell_type": "code",
      "source": [
        "gbclf_f1_score_list"
      ],
      "metadata": {
        "colab": {
          "base_uri": "https://localhost:8080/",
          "height": 0
        },
        "id": "VYA1u3U9h0lC",
        "outputId": "3593d2cb-893b-4c08-f040-23daf1b933cc"
      },
      "execution_count": 14,
      "outputs": [
        {
          "output_type": "execute_result",
          "data": {
            "text/plain": [
              "[1.0]"
            ]
          },
          "metadata": {},
          "execution_count": 14
        }
      ]
    },
    {
      "cell_type": "code",
      "source": [
        "gbclf_average_precision_score_list"
      ],
      "metadata": {
        "colab": {
          "base_uri": "https://localhost:8080/",
          "height": 0
        },
        "id": "-BaeOWnKh0vJ",
        "outputId": "e24bb97c-f3d1-4df9-d48d-8215f156a335"
      },
      "execution_count": 15,
      "outputs": [
        {
          "output_type": "execute_result",
          "data": {
            "text/plain": [
              "[1.0]"
            ]
          },
          "metadata": {},
          "execution_count": 15
        }
      ]
    },
    {
      "cell_type": "code",
      "source": [
        "y_test_pred= gb_clf_pipe2.predict(X_test)"
      ],
      "metadata": {
        "id": "vFiGMq-mh7Wx"
      },
      "execution_count": 17,
      "outputs": []
    },
    {
      "cell_type": "code",
      "source": [
        "confusion_matrix(y_test, y_test_pred)"
      ],
      "metadata": {
        "colab": {
          "base_uri": "https://localhost:8080/",
          "height": 0
        },
        "id": "ta25D6_hjC91",
        "outputId": "89192bf7-4e9a-4e0f-e34f-d6a29cbc0fd7"
      },
      "execution_count": 20,
      "outputs": [
        {
          "output_type": "execute_result",
          "data": {
            "text/plain": [
              "array([[551653,   1128],\n",
              "       [   334,   2604]])"
            ]
          },
          "metadata": {},
          "execution_count": 20
        }
      ]
    },
    {
      "cell_type": "code",
      "source": [
        "f1_score(y_test, y_test_pred)"
      ],
      "metadata": {
        "colab": {
          "base_uri": "https://localhost:8080/",
          "height": 0
        },
        "id": "LonLg8zJh7iJ",
        "outputId": "2b191da6-2300-4fe1-970c-4579ffe20b8a"
      },
      "execution_count": 19,
      "outputs": [
        {
          "output_type": "execute_result",
          "data": {
            "text/plain": [
              "0.7808095952023988"
            ]
          },
          "metadata": {},
          "execution_count": 19
        }
      ]
    },
    {
      "cell_type": "code",
      "source": [
        "average_precision_score(y_test, y_test_pred)"
      ],
      "metadata": {
        "colab": {
          "base_uri": "https://localhost:8080/",
          "height": 0
        },
        "id": "wzb0HoZJjtPG",
        "outputId": "bd8c36b4-08d5-48c9-a6a1-e6e53d4b2f8e"
      },
      "execution_count": 21,
      "outputs": [
        {
          "output_type": "execute_result",
          "data": {
            "text/plain": [
              "0.6190281527747641"
            ]
          },
          "metadata": {},
          "execution_count": 21
        }
      ]
    },
    {
      "cell_type": "code",
      "source": [
        "precision_score(y_test, y_test_pred)"
      ],
      "metadata": {
        "colab": {
          "base_uri": "https://localhost:8080/",
          "height": 0
        },
        "id": "JGDoXfHWjtSB",
        "outputId": "44edc763-0121-40c4-f9d9-6388a153b0c5"
      },
      "execution_count": 22,
      "outputs": [
        {
          "output_type": "execute_result",
          "data": {
            "text/plain": [
              "0.6977491961414791"
            ]
          },
          "metadata": {},
          "execution_count": 22
        }
      ]
    },
    {
      "cell_type": "code",
      "source": [
        "recall_score(y_test, y_test_pred)"
      ],
      "metadata": {
        "colab": {
          "base_uri": "https://localhost:8080/",
          "height": 0
        },
        "id": "42Ep6ZPXjtUx",
        "outputId": "0133f5b7-e5b0-4871-f6ed-2193f6983ed4"
      },
      "execution_count": 23,
      "outputs": [
        {
          "output_type": "execute_result",
          "data": {
            "text/plain": [
              "0.8863172226004085"
            ]
          },
          "metadata": {},
          "execution_count": 23
        }
      ]
    },
    {
      "cell_type": "code",
      "source": [
        "roc_auc_score(y_test, y_test_pred)"
      ],
      "metadata": {
        "colab": {
          "base_uri": "https://localhost:8080/",
          "height": 0
        },
        "id": "PpcQdHFrkVxx",
        "outputId": "e2cc476d-5a10-4c1b-80ae-a44a844ea1ca"
      },
      "execution_count": 24,
      "outputs": [
        {
          "output_type": "execute_result",
          "data": {
            "text/plain": [
              "0.942138315740118"
            ]
          },
          "metadata": {},
          "execution_count": 24
        }
      ]
    },
    {
      "cell_type": "code",
      "execution_count": null,
      "metadata": {
        "id": "DM3cdFOw0QHT"
      },
      "outputs": [],
      "source": [
        "y_train_smote.values.ravel()"
      ]
    },
    {
      "cell_type": "code",
      "execution_count": 9,
      "metadata": {
        "id": "1fSUiXJxTqiq",
        "colab": {
          "base_uri": "https://localhost:8080/",
          "height": 0
        },
        "outputId": "f0976f00-93ca-45b4-a3ff-921238d5a396"
      },
      "outputs": [
        {
          "output_type": "execute_result",
          "data": {
            "text/plain": [
              "array([0, 0, 0, ..., 1, 1, 1])"
            ]
          },
          "metadata": {},
          "execution_count": 9
        }
      ],
      "source": [
        "y_pred"
      ]
    },
    {
      "cell_type": "code",
      "source": [
        "import pickle"
      ],
      "metadata": {
        "id": "BNVnm3rDhOgB"
      },
      "execution_count": 10,
      "outputs": []
    },
    {
      "cell_type": "code",
      "source": [
        "model_filename = 'model.pkl'\n",
        "\n",
        "# Use pickle to save the model to a file\n",
        "with open(model_filename, 'wb') as model_file:\n",
        "    pickle.dump(gb_clf_pipe2, model_file)"
      ],
      "metadata": {
        "id": "VQ5sZjhzhOjA"
      },
      "execution_count": 11,
      "outputs": []
    },
    {
      "cell_type": "markdown",
      "metadata": {
        "id": "YTNZP5Vkqci_"
      },
      "source": []
    }
  ],
  "metadata": {
    "colab": {
      "provenance": []
    },
    "kernelspec": {
      "display_name": "Python 3",
      "name": "python3"
    },
    "language_info": {
      "name": "python"
    }
  },
  "nbformat": 4,
  "nbformat_minor": 0
}